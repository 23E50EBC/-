{
 "cells": [
  {
   "cell_type": "markdown",
   "id": "b1d2351c-5af5-4351-985b-836700b59a8f",
   "metadata": {},
   "source": [
    "# Tkinter!\n",
    "\n",
    "这是一个python中的gui库，你知道的，python库相比于java的库最普遍的变化就是，所有的玩意都简单了"
   ]
  },
  {
   "cell_type": "markdown",
   "id": "e9592b94-cbd3-4645-a544-7f8a6ced3b35",
   "metadata": {},
   "source": [
    "## 创建一个窗口\n",
    "\n",
    "需要先把这个库导入，然后用Tk方法创建一个窗口对象"
   ]
  },
  {
   "cell_type": "code",
   "execution_count": 3,
   "id": "6c245fe7-7103-4b41-a95e-52a839bc38fa",
   "metadata": {},
   "outputs": [],
   "source": [
    "import tkinter\n",
    "\n",
    "window1 = tkinter.Tk()"
   ]
  },
  {
   "cell_type": "markdown",
   "id": "ec748aaf-14e9-4e41-982f-6d13663c2fe9",
   "metadata": {},
   "source": [
    "这什么都不会发生，这和pygame一样，我们需要一个主循环让这个窗口一直显示在前台"
   ]
  },
  {
   "cell_type": "code",
   "execution_count": 7,
   "id": "a26d3add-7794-4020-bd96-02515d0fdde1",
   "metadata": {},
   "outputs": [],
   "source": [
    "import tkinter\n",
    "\n",
    "window1 = tkinter.Tk()\n",
    "window1.mainloop()"
   ]
  },
  {
   "cell_type": "markdown",
   "id": "483a407e-3806-49d9-97a3-ee88f4f35f4a",
   "metadata": {},
   "source": [
    "另一个方案是显式的创建一个循环，来逐帧刷新这个窗口,这里的报错不要奇怪，我们直接关掉窗口再终止进程就会有这个问题，下面学到destroy就可以避免这个报错了"
   ]
  },
  {
   "cell_type": "code",
   "execution_count": null,
   "id": "33d29a33-0383-4e48-95f1-fa1277bb4e8d",
   "metadata": {},
   "outputs": [],
   "source": [
    "import tkinter\n",
    "\n",
    "window1 = tkinter.Tk()\n",
    "#window1.mainloop()\n",
    "while True :\n",
    "    window1.update()"
   ]
  },
  {
   "cell_type": "markdown",
   "id": "a1244776-209a-4d6c-b90d-0dc8a0342bdd",
   "metadata": {},
   "source": [
    "这样做的一个好处是，我们现在可以在这个循环中添加其他的控件，譬如一个计时器"
   ]
  },
  {
   "cell_type": "code",
   "execution_count": 12,
   "id": "9adc0f97-c22a-4dfe-b5e1-7e753a83ffab",
   "metadata": {},
   "outputs": [],
   "source": [
    "import tkinter\n",
    "import time\n",
    "\n",
    "window1 = tkinter.Tk()\n",
    "btime = time.time()\n",
    "#window1.mainloop()\n",
    "while True :\n",
    "    window1.update()\n",
    "\n",
    "    if time.time() >= btime + 2:\n",
    "        window1.destroy()\n",
    "        break\n",
    "    "
   ]
  },
  {
   "cell_type": "markdown",
   "id": "a64d0cb9-6068-4588-9f91-ab46ae3f549a",
   "metadata": {},
   "source": [
    "Tk（）这个函数还有一些它的参数，但是我们并不常用这些参数，我们更习惯于单独调用它的一些控制函数来完成对窗口细节的设置\n",
    "\n",
    "方法&使用方法\n",
    "+ title(string=None)\t设置窗口的标题，同时返回窗口标题\n",
    "+ geometry(newGeometry=None)\t设置窗口的尺寸大小，同时返回当前窗口尺寸\n",
    "+ iconbitmap(bitmap=None)\t设置窗口的图标，需指定图标文件(*.ico)的位置\n",
    "+ resizable(width=None, height=None)\t设定是否能够改变窗口的宽和高尺寸\n",
    "+ destroy()\t销毁窗口，也就是把窗口关掉\n"
   ]
  },
  {
   "cell_type": "code",
   "execution_count": 15,
   "id": "bcf3bf5a-0977-47ab-8f7a-3c14548a92dc",
   "metadata": {},
   "outputs": [
    {
     "ename": "KeyboardInterrupt",
     "evalue": "",
     "output_type": "error",
     "traceback": [
      "\u001b[1;31m---------------------------------------------------------------------------\u001b[0m",
      "\u001b[1;31mKeyboardInterrupt\u001b[0m                         Traceback (most recent call last)",
      "Cell \u001b[1;32mIn[15], line 7\u001b[0m\n\u001b[0;32m      4\u001b[0m window1\u001b[38;5;241m.\u001b[39mtitle(\u001b[38;5;124m\"\u001b[39m\u001b[38;5;124mhello1\u001b[39m\u001b[38;5;124m\"\u001b[39m)\n\u001b[0;32m      6\u001b[0m \u001b[38;5;28;01mwhile\u001b[39;00m \u001b[38;5;28;01mTrue\u001b[39;00m:\n\u001b[1;32m----> 7\u001b[0m     window1\u001b[38;5;241m.\u001b[39mupdate()\n",
      "File \u001b[1;32mD:\\anaconda\\Lib\\tkinter\\__init__.py:1373\u001b[0m, in \u001b[0;36mMisc.update\u001b[1;34m(self)\u001b[0m\n\u001b[0;32m   1371\u001b[0m \u001b[38;5;28;01mdef\u001b[39;00m \u001b[38;5;21mupdate\u001b[39m(\u001b[38;5;28mself\u001b[39m):\n\u001b[0;32m   1372\u001b[0m \u001b[38;5;250m    \u001b[39m\u001b[38;5;124;03m\"\"\"Enter event loop until all pending events have been processed by Tcl.\"\"\"\u001b[39;00m\n\u001b[1;32m-> 1373\u001b[0m     \u001b[38;5;28mself\u001b[39m\u001b[38;5;241m.\u001b[39mtk\u001b[38;5;241m.\u001b[39mcall(\u001b[38;5;124m'\u001b[39m\u001b[38;5;124mupdate\u001b[39m\u001b[38;5;124m'\u001b[39m)\n",
      "\u001b[1;31mKeyboardInterrupt\u001b[0m: "
     ]
    }
   ],
   "source": [
    "import tkinter\n",
    "\n",
    "window1 = tkinter.Tk()\n",
    "window1.title(\"hello1\")  #设置标题为hello1\n",
    "\n",
    "while True:\n",
    "    window1.update()"
   ]
  },
  {
   "cell_type": "code",
   "execution_count": null,
   "id": "885f462f-ed34-4459-85b7-9bc511732f18",
   "metadata": {},
   "outputs": [],
   "source": [
    "import tkinter\n",
    "\n",
    "window1 = tkinter.Tk()\n",
    "window1.title(\"hello1\")\n",
    "window1.geometry(\"500x500\") #设置大小为500乘500，这里反常识的是，它的大小设置不是单独设计长=？宽=？，而是500x500，这个叉叉就是x，z和c中间的那个x\n",
    "\n",
    "while True:\n",
    "    window1.update()"
   ]
  },
  {
   "cell_type": "code",
   "execution_count": null,
   "id": "6d003aef-cc0d-4510-837a-7cd4bdc1960d",
   "metadata": {},
   "outputs": [],
   "source": [
    "import tkinter\n",
    "\n",
    "window1 = tkinter.Tk()\n",
    "window1.title(\"hello1\")\n",
    "window1.geometry(\"500x500\")\n",
    "window1.resizable(False,True) #这个函数的两个参数分别控制宽方向上能否变化宽度，和长方向上能否变化，这个函数要么不填参数，要填就全填\n",
    "#譬如现在，就是宽上不可变，但高度可以变化\n",
    "\n",
    "while True:\n",
    "    window1.update()"
   ]
  },
  {
   "cell_type": "markdown",
   "id": "b23cfa60-ea37-491d-b07a-6655ce273a3d",
   "metadata": {},
   "source": [
    "此外，geometry函数还可以设定窗口位置，参数形式是“宽x高+宽度裕量+高度裕量”"
   ]
  },
  {
   "cell_type": "code",
   "execution_count": null,
   "id": "77414e95-e0c7-4834-a177-31cd4cbf1bb0",
   "metadata": {},
   "outputs": [],
   "source": [
    "import tkinter\n",
    "\n",
    "window1 = tkinter.Tk()\n",
    "window1.title(\"hello1\")\n",
    "window1.geometry(\"500x500+800+200\") #这个运行的结果是，一个500*500的窗口出现在屏幕右侧\n",
    "\n",
    "while True:\n",
    "    window1.update()\n"
   ]
  },
  {
   "cell_type": "markdown",
   "id": "d4eea605-4a22-425d-83cd-f2acc161e89d",
   "metadata": {},
   "source": [
    "想要设置窗口的颜色，用下面的两个函数，这两个函数实际上是一个，后者是前者的别名"
   ]
  },
  {
   "cell_type": "code",
   "execution_count": null,
   "id": "b6ac8094-acae-4558-bd91-50d08f963019",
   "metadata": {},
   "outputs": [],
   "source": [
    "import tkinter\n",
    "\n",
    "window1 = tkinter.Tk()\n",
    "window1.config(bg=\"blue\")\n",
    "\n",
    "while True:\n",
    "    window1.update()"
   ]
  },
  {
   "cell_type": "code",
   "execution_count": null,
   "id": "d7dc86ad-589d-4772-8af4-96b05daeca17",
   "metadata": {},
   "outputs": [],
   "source": [
    "import tkinter\n",
    "\n",
    "window1 = tkinter.Tk()\n",
    "window1.configure(bg=\"blue\")\n",
    "\n",
    "while True:\n",
    "    window1.update()"
   ]
  },
  {
   "cell_type": "markdown",
   "id": "ca2ec637-6427-4376-ab19-f3a92eeb80c7",
   "metadata": {},
   "source": [
    "## 组件\n",
    "\n",
    "这里的组件和java中的组件基本类似，我们只需要知道，“组件”处于“容器”中，我们想要使用组件时，需要声明一个组件，然后再指出它的父容器，我们再调用这个组件的pack方法，这样它就会随着容器展示出来\n",
    "\n",
    "在这个库中的组件很多：\n",
    "+ Label：标签控件，用来在窗口上显示文本和图片\n",
    "+ Message：消息控件，用来显示多行文本，与Label功能类似\n",
    "+ Button：按钮控件，用户可以点击按钮，点击事件将会传递给设置的回调函数\n",
    "+ Entry：文本输入框控件，用户可以输入文字，但只能在一行输入\n",
    "+ Text：多行文本输入框控件，用户可以输入多行文字，自由换行\n",
    "+ Canvas：画布控件，可以在上面显示基本图形、文字、图片\n",
    "+ Frame：框架控件，作为一个小容器，相当于给组件分组。\n",
    "+ LabelFrame：文字框架控件，和Frame不同的是，框架外面多了文本提示\n",
    "+ Menu：菜单控件，在窗口上显示菜单，或定义弹出式菜单。\n",
    "+ Menubutton：菜单按钮控件，是Button的样子，点击后弹出一个菜单。\n",
    "+ Checkbutton：多选按钮，用户可以勾选或取消勾选。\n",
    "+ Radiobutton：单选按钮，用户可以在同类的Radiobutton中选择一个，无法取消勾选\n",
    "+ Listbox：列表框组件，可以显示一个字符串的列表\n",
    "+ Scrollbar：滚动条控件，用来添加一个滚动条控制滚动\n",
    "+ Scale：尺度条控件，用来添加一个数字滑块，用户可以滑动调整数值。\n",
    "+ Spinbox：数字选值框控件，用户既可以输入数字，也可以按调节按钮调整数值。\n",
    "+ OptionMenu：选项菜单，用户可以从下拉菜单中选择一个值，但是不能自己输入。\n",
    "+ PanedWindow：分栏容器控件，和Frame类似，但是有更多的功能设定，比如用户可以调节大小\n",
    "+ Toplevel：上层窗口控件，可以定义某个窗口的子窗口。\n",
    "\n",
    "大多数的组件都以下面的这些参数控制：\n",
    "+ master\t组件的父容器，一般必选\n",
    "+ name\t组件在Tcl/Tk内部的名称\n",
    "+ bg&background  改变组件的背景\n",
    "+ fg&foreground  改变组件的前景色，一般是文本颜色\n",
    "+ width\t组件的宽，单位是像素（在文本输入类组件中，单位是字符数量）\n",
    "+ height\t组件的高，单位是像素（在文本输入类组件中，单位是字符数量）\n",
    "+ cursor\t鼠标放上组件的光标样式\n",
    "+ relief\t组件边框样式\n",
    "+ state\t组件状态，可设置为normal(普通样式),disabled(禁用),active(激活),readonly(只读)。其中normal和disabled所有组件都支持，而active,readonly只有部分组件支持。\n",
    "+ takefocus\t组件是否能获取焦点\n",
    "+ bd&borderwidth   组件边框的宽度\n",
    "+ activebackground    组件激活时的背景色\n",
    "+ activeforeground\t组件激活时的前景色\n",
    "+ disabledforeground\t组件禁用时的前景色\n",
    "+ disabledbackground\t组件禁用时的背景色\n",
    "+ highlightcolor\t高亮（组件获得焦点）时的边框颜色\n",
    "+ highlightthickness\t高亮边框宽度\n",
    "+ exportselection\t这个是所有含有输入功能的组件的共有参数，表示选中的内容是否可以被Misc.selection_get方法检测到，参见后文对Misc类的介绍\n",
    "\n",
    "下面的几个方法，是组件中共通的：\n",
    "\n",
    "方法名称 & 作用\n",
    "+ after(ms, func=None)\t等待ms毫秒后执行一次func\n",
    "+ bind(sequence=None, func=None)\t绑定事件，检测到事件后调用func\n",
    "+ unbind(sequence)\t解除绑定事件\n",
    "+ update()\t刷新组件，一般不需要手动调用\n",
    "+ cget(key)\t返回关键字参数key的值，如：root.cget(\"bg\")返回root的背景色\n",
    "+ configure(**kw)\t也写作config，重新改变组件的关键字参数设置\n",
    "+ destroy()\t销毁组件\n",
    "+ focus_set()\t设置输入焦点"
   ]
  },
  {
   "cell_type": "markdown",
   "id": "74c7f11f-7cdb-4307-bd2f-bcf648928b0b",
   "metadata": {},
   "source": [
    "## 介绍标签\n",
    "\n",
    "最基础的一个组件，作用也最简单，显示一个标签，它的参数如下：\n",
    "\n",
    "参数名称&作用\n",
    "+ text\t显示的文本\n",
    "+ font\t文本的字体\n",
    "+ image\t显示的图片\n",
    "+ bitmap\t显示的位图，和image只能指定一个\n",
    "+ textvariable\t绑定的文本变量\n",
    "+ compound\t当文本和图片同时显示时，图片位于文本的方位，可以是top, bottom, left, right, center，如：设置为top表示图片位于文本上方\n",
    "+ padx\t标签内容与左右的间距\n",
    "+ pady\t标签内容与上下的间距\n",
    "+ anchor\t文本靠标签哪个方向显示，可以是n,s,w,e,ne,nw,sw,se,center，即北、南、西、东、东北、西北、西南、东南、中间，默认靠中间显示\n",
    "+ justify\t文本的对齐方式，可以是left, right, center，默认是center\n",
    "+ wraplength\t自动换行字符数量，到达数量后文本会自动换一行显示\n"
   ]
  },
  {
   "cell_type": "code",
   "execution_count": null,
   "id": "7d607a5e-fb6d-44c7-b751-331a4aa06371",
   "metadata": {},
   "outputs": [],
   "source": [
    "import tkinter\n",
    "\n",
    "window1 = tkinter.Tk()\n",
    "window1.geometry(\"500x500\")\n",
    "\n",
    "lab1 = tkinter.Label(master=window1,text=\"hello\")\n",
    "lab1.pack()\n",
    "\n",
    "while True:\n",
    "    window1.update()"
   ]
  },
  {
   "cell_type": "markdown",
   "id": "67d32f66-005a-481f-96a0-3059ca81c16f",
   "metadata": {},
   "source": [
    "下面一个例子展示如何用relief参数设定组件边框的样式，大多数组件都支持relief参数。这个参数有六种，分别是flat, groove, raised, ridge, solid, sunken。Label的默认relief是flat"
   ]
  },
  {
   "cell_type": "code",
   "execution_count": null,
   "id": "0d2edd03-c8e7-4cd3-a9d1-c75fff40dd13",
   "metadata": {},
   "outputs": [],
   "source": [
    "import tkinter\n",
    "\n",
    "window1 = tkinter.Tk()\n",
    "window1.geometry(\"500x500\")\n",
    "\n",
    "lab1 = tkinter.Label(master=window1,text=\"hello\",relief=\"sunken\")  #这会让组件边框看起来是下沉的\n",
    "lab1.pack()\n",
    "\n",
    "while True:\n",
    "    window1.update()"
   ]
  },
  {
   "cell_type": "markdown",
   "id": "714ff7ff-2b5e-43ec-911b-5de12a8290e2",
   "metadata": {},
   "source": [
    "组件的cursor参数指定鼠标移动到组件上时，光标的样子，下面一个例子展示当我们把鼠标放在标签上时鼠标变成黑色十字。光标样式有很多，这里不再赘述，可以参考下面这个示例，它会显示光标所有的样式。鼠标放在对应Label上，会显示出当前光标样式。"
   ]
  },
  {
   "cell_type": "code",
   "execution_count": null,
   "id": "d78c3c99-355e-4584-af09-b1152c58c420",
   "metadata": {},
   "outputs": [],
   "source": [
    "import tkinter\n",
    "\n",
    "window1 = tkinter.Tk()\n",
    "window1.geometry(\"500x500\")\n",
    "\n",
    "lab1 = tkinter.Label(master=window1,text=\"hello\",cursor=\"crosshair\")\n",
    "lab1.pack()\n",
    "\n",
    "while True:\n",
    "    window1.update()"
   ]
  },
  {
   "cell_type": "code",
   "execution_count": null,
   "id": "e19ac2fd-4c42-4013-ad47-3221aba9a1f3",
   "metadata": {},
   "outputs": [],
   "source": [
    "cursorList = ['arrow', 'xterm', 'watch', 'hand2', 'question_arrow', 'sb_h_double_arrow', 'sb_v_double_arrow', 'fleur',\n",
    "              'crosshair', 'based_arrow_down', 'based_arrow_up', 'boat', 'bogosity', 'top_left_corner',\n",
    "              'top_right_corner', 'bottom_left_corner', 'bottom_right_corner', 'top_side', 'bottom_side', 'top_tee',\n",
    "              'bottom_tee', 'box_spiral', 'center_ptr', 'circle', 'clock', 'coffee_mug', 'cross', 'cross_reverse',\n",
    "              'diamond_cross', 'dot', 'dotbox', 'double_arrow', 'top_left_arrow', 'draft_small', 'draft_large',\n",
    "              'left_ptr', 'right_ptr', 'draped_box', 'exchange', 'gobbler', 'gumby', 'hand1', 'heart', 'icon',\n",
    "              'iron_cross', 'left_side', 'right_side', 'left_tee', 'right_tee', 'leftbutton', 'middlebutton',\n",
    "              'rightbutton', 'll_angle', 'lr_angle', 'man', 'mouse', 'pencil', 'pirate', 'plus', 'rtl_logo', 'sailboat',\n",
    "              'sb_left_arrow', 'sb_right_arrow', 'sb_up_arrow', 'sb_down_arrow', 'shuttle', 'sizing', 'spider',\n",
    "              'spraycan', 'star', 'target', 'tcross', 'trek', 'ul_angle', 'umbrella', 'ur_angle', 'X_cursor']\n",
    "#所有的光标样式\n",
    " \n",
    "from tkinter import *\n",
    " \n",
    "root = Tk()\n",
    " \n",
    "for i in range(len(cursorList)):\n",
    "    cursor = cursorList[i]\n",
    "    \n",
    "    Label(text=cursor, cursor=cursor, relief=\"groove\").grid(\n",
    "        column=i // 20, row=i % 20, sticky=\"we\") #后面会讲到grid，是一种排放组件方式\n",
    " \n",
    "root.mainloop()"
   ]
  },
  {
   "cell_type": "markdown",
   "id": "46e65bf6-85d2-449f-a743-5835efb105c9",
   "metadata": {},
   "source": [
    "组件的font参数指定文本的字体，大多数带有文本的组件都支持这个参数。font参数指定字体的样式、大小、以及是否有加粗下划线等特殊样式。\n",
    "\n",
    "font参数可以是tkinter.font.Font对象，也可以只给一个字体名称或是字体大小数值，或是给一个元组。字体的元组后面还可以加上字体的特殊样式，一共有bold(加粗), italic(斜体),underline(下划线),overstrike(删除线)几种。可以叠加设置。"
   ]
  },
  {
   "cell_type": "code",
   "execution_count": null,
   "id": "ebac02c1-d214-414b-8278-65f35d96db71",
   "metadata": {},
   "outputs": [],
   "source": [
    "import tkinter\n",
    "\n",
    "window1 = tkinter.Tk()\n",
    "window1.geometry(\"500x500\")\n",
    "\n",
    "lab1 = tkinter.Label(master=window1,text=\"hello\",font=(\"黑体\",100 ,\"bold\"))  #这让字体变得非常大并且加粗\n",
    "lab1.pack()\n",
    "\n",
    "while True:\n",
    "    window1.update()"
   ]
  },
  {
   "cell_type": "code",
   "execution_count": null,
   "id": "0f6dc4b7-fe03-460d-ac9f-119121d76033",
   "metadata": {},
   "outputs": [],
   "source": [
    "import tkinter\n",
    "\n",
    "window1 = tkinter.Tk()\n",
    "window1.geometry(\"500x500\")\n",
    "\n",
    "lab2 = tkinter.Label(window1, text=\"叠加使用\", font=(\"黑体\", 20, [\"bold\", \"italic\", \"underline\", \"overstrike\"]))\n",
    "#当你使用叠加效果时，建议把效果控件的str包装成列表的形式\n",
    "lab2.pack()\n",
    "while True:\n",
    "    window1.update()"
   ]
  },
  {
   "cell_type": "markdown",
   "id": "0b2c1d75-db85-47cb-aa72-33a471010704",
   "metadata": {},
   "source": [
    "bitmap参数指定添加内置图标，有error, info, hourglass, questhead, question, warning, gray12, gray25, gray50, gray75。下面的示例列举了所有bitmap："
   ]
  },
  {
   "cell_type": "code",
   "execution_count": null,
   "id": "d7295327-258f-46f7-a70b-e305b093649b",
   "metadata": {},
   "outputs": [],
   "source": [
    "import tkinter\n",
    "\n",
    "window1 = tkinter.Tk()\n",
    "window1.geometry(\"500x500\")\n",
    "\n",
    "lab1 = tkinter.Label(master=window1,bitmap=\"error\")  #显示一个错误图标\n",
    "lab1.pack()\n",
    "#\n",
    "while True:\n",
    "    window1.update()"
   ]
  },
  {
   "cell_type": "code",
   "execution_count": null,
   "id": "0bf6bff9-d2f0-4fc3-bb83-17fca9daca34",
   "metadata": {},
   "outputs": [],
   "source": [
    "import tkinter\n",
    "\n",
    "window1 = tkinter.Tk()\n",
    "window1.geometry(\"500x500\")\n",
    "\n",
    "bitmaps = [\"error\", \"info\", \"hourglass\", \"questhead\", \"question\", \"warning\",\n",
    "           \"gray12\", \"gray25\", \"gray50\", \"gray75\"]\n",
    "for bitmap in bitmaps:\n",
    "    tkinter.Label(window1, text=bitmap, bitmap=bitmap, compound=\"left\").pack()\n",
    "\n",
    "while True:\n",
    "    window1.update()"
   ]
  },
  {
   "cell_type": "markdown",
   "id": "bd8c8323-8201-4a78-9347-613c2bd2a63d",
   "metadata": {},
   "source": [
    "compound的意思是：图片置于文字的位置，上面的参数解释有，我们可以调整这个参数来得到不同的视觉效果，下面两个标签中，字符hello分别会出现在图标的左边和右边"
   ]
  },
  {
   "cell_type": "code",
   "execution_count": null,
   "id": "938d731a-13c9-4bac-b989-1f9ced8d8619",
   "metadata": {},
   "outputs": [],
   "source": [
    "import tkinter\n",
    "\n",
    "window1 = tkinter.Tk()\n",
    "window1.geometry(\"500x500\")\n",
    "#\n",
    "lab1 = tkinter.Label(master=window1,text=\"hello\",bitmap=\"error\",compound=\"left\")\n",
    "lab1.pack()\n",
    "\n",
    "lab2 = tkinter.Label(master=window1,text=\"hello\",bitmap=\"error\",compound=\"right\")\n",
    "lab2.pack()\n",
    "#\n",
    "while True:\n",
    "    window1.update()"
   ]
  },
  {
   "cell_type": "markdown",
   "id": "008b9889-5e6f-4f2e-b974-5226019876da",
   "metadata": {},
   "source": [
    "image参数在Label中添加图片。这个图片是一个tk.PhotoImage对象，支持的格式只有*.gif, *.ppm, *.pgm，较新版的tk支持显示*.png。注意：直接在图片文件后面改后缀不会改变图片本身的文件类型！更需要强调的一点是，要保证储存PhotoImage图片对象变量不会被Python垃圾回收机制删除（这意味着不能设置成局部变量），否则图片无法正确显示\n"
   ]
  },
  {
   "cell_type": "code",
   "execution_count": null,
   "id": "dc56cb69-079a-484d-8bd9-eef92bfe0587",
   "metadata": {},
   "outputs": [],
   "source": [
    "mport tkinter\n",
    "\n",
    "window1 = tkinter.Tk()\n",
    "window1.geometry(\"500x500\")\n",
    "\n",
    "image1 = tkinter.PhotoImage(file=\"D:\\PythonProject\\Figure_1.png\")  #这里是一个已知路径的图片，当然不一定非得用绝对地址\n",
    "lab1 = tkinter.Label(master=window1,image=image1)\n",
    "lab1.pack()\n",
    "\n",
    "while True:\n",
    "    window1.update()"
   ]
  },
  {
   "cell_type": "markdown",
   "id": "5921a88b-7845-4886-9334-28a308782a38",
   "metadata": {},
   "source": [
    "结合刚才的那个位置控件，我们可以组合字符和图片的显示方式"
   ]
  },
  {
   "cell_type": "code",
   "execution_count": null,
   "id": "a632fae1-e6a0-4665-8c09-53b86b509f67",
   "metadata": {},
   "outputs": [],
   "source": [
    "import tkinter\n",
    "\n",
    "window1 = tkinter.Tk()\n",
    "window1.geometry(\"500x500\")\n",
    "\n",
    "image1 = tkinter.PhotoImage(file=\"D:\\PythonProject\\Figure_1.png\")\n",
    "lab1 = tkinter.Label(master=window1,text=\"hello\",image=image1,compound=\"top\")  #上面放图片，下面是hello\n",
    "lab1.pack()\n",
    "\n",
    "while True:\n",
    "    window1.update()"
   ]
  },
  {
   "cell_type": "markdown",
   "id": "4e2b540e-bab8-4b36-80cf-02bea6e87585",
   "metadata": {},
   "source": [
    "### thiner的变量\n",
    "\n",
    "我们可以做这样的一个实验，来检验一下，我们的标签能不能正确显示一个变化中的值"
   ]
  },
  {
   "cell_type": "code",
   "execution_count": null,
   "id": "dd907fad-8561-4c00-8a90-5ebed09547a6",
   "metadata": {},
   "outputs": [],
   "source": [
    "import tkinter\n",
    "\n",
    "window1 = tkinter.Tk()\n",
    "window1.geometry(\"500x500\")\n",
    "\n",
    "ver = 1\n",
    "lab1 = tkinter.Label(master=window1,text=f\"{ver}\")\n",
    "lab1.pack()\n",
    "\n",
    "while True:\n",
    "    print(ver)\n",
    "    ver += 1\n",
    "    window1.update()"
   ]
  },
  {
   "cell_type": "markdown",
   "id": "ec61184c-0b8a-46d7-879d-46fc81c43966",
   "metadata": {},
   "source": [
    "结果是不行的，即使控制台中ver的值疯狂的增长，图框中显示的东西却始终不变，这里我们需要用到tkinter中自带的变量，这些变量可以绑定到组件，可以设置它们的值。绑定的组件会随着设置而刷新。这些对象有StringVar()文本变量，IntVar()整数变量，DoubleVar()浮点数变量，BooleanVar()布尔值变量。\n",
    "\n",
    "下面这个例子中，我们声明了一个整数的tkinter变量，然后我们初始化时将之设置为1，后面的循环中我们每次循环对这个变量加1，并且我们还把这个变量绑定到了我们的标签上，注意位置是“可变text”而非过去的text，下面的循环中我们就能看到标签的数值随着循环一起疯狂增长了"
   ]
  },
  {
   "cell_type": "code",
   "execution_count": null,
   "id": "6b23d61e-6fc6-48e8-a08e-be739d679013",
   "metadata": {},
   "outputs": [],
   "source": [
    "import tkinter\n",
    "\n",
    "window1 = tkinter.Tk()\n",
    "window1.geometry(\"500x500\")\n",
    "\n",
    "ver = tkinter.IntVar()\n",
    "ver.set(1)\n",
    "lab1 = tkinter.Label(master=window1,textvariable=ver)\n",
    "lab1.pack()\n",
    "\n",
    "while True:\n",
    "    print(ver.get())\n",
    "    ver.set(ver.get()+1)\n",
    "    window1.update()"
   ]
  },
  {
   "cell_type": "markdown",
   "id": "ce17fc4d-7122-44e3-9512-5b514300c64f",
   "metadata": {},
   "source": [
    "但是作为一个反例，你可以用前面介绍过的config，每次循环都重新设置一下这个标签的信息，从而得到一个类似的效果"
   ]
  },
  {
   "cell_type": "code",
   "execution_count": null,
   "id": "cfb55916-47d6-4fef-b252-639a4e3790eb",
   "metadata": {},
   "outputs": [],
   "source": [
    "import tkinter\n",
    "\n",
    "window1 = tkinter.Tk()\n",
    "window1.geometry(\"500x500\")\n",
    "\n",
    "ver = 1\n",
    "lab1 = tkinter.Label(master=window1,text=f\"{ver}\")\n",
    "lab1.pack()\n",
    "\n",
    "while True:\n",
    "    print(ver)\n",
    "    ver += 1\n",
    "    lab1.config(text=ver)\n",
    "    window1.update()"
   ]
  },
  {
   "cell_type": "markdown",
   "id": "3e5b96e5-0cc2-4ccb-9c97-88d7ad04de40",
   "metadata": {},
   "source": [
    "但是我们更推荐使用前者，因为tkinter提供了关于显示变量上特殊的优化，这天生适用于多变量系统，并且自带线程安全，当然我们手动的设计这一机制也是可行的，不过远没有前者方便"
   ]
  },
  {
   "cell_type": "markdown",
   "id": "975d5df7-9bd5-4440-9dca-866a80907a78",
   "metadata": {},
   "source": [
    "## BUTTON按钮\n",
    "\n",
    "这个玩意绑定一个回调函数，在按按钮时调用这个回调函数，它自带了下面的几个特殊的参数：\n",
    "\n",
    "参数名称&作用\n",
    "+ command\t点击按钮时运行（是一个方法）\n",
    "+ repeatdelay\t延迟多少毫秒(1000ms=1s)后进行按钮的持续触发\n",
    "+ repeatinterval\t按钮持续触发的间隔时长（毫秒）\n",
    "+ overrelief\t鼠标经过时按钮的relief样式\n",
    "\n",
    "以及这俩特殊方法：\n",
    "\n",
    "方法&作用\n",
    "+ invoke\t调用Button的command(disabled无效)\n",
    "+ flash  \t使Button闪烁几次(在normal和active几次切换)"
   ]
  },
  {
   "cell_type": "markdown",
   "id": "2beebc82-6140-4de4-baed-074b67849777",
   "metadata": {},
   "source": [
    "最简单的，我们绑定一个在命令行上显示字体的函数"
   ]
  },
  {
   "cell_type": "code",
   "execution_count": null,
   "id": "681a291a-eee2-40d7-b6e7-720964711892",
   "metadata": {},
   "outputs": [],
   "source": [
    "import tkinter\n",
    "\n",
    "window1 = tkinter.Tk()\n",
    "window1.geometry(\"500x500\")\n",
    "\n",
    "def print_text():\n",
    "    print(\"11111\")  #会在命令行上显示1111\n",
    "\n",
    "button1 = tkinter.Button(master=window1,text=\"button\",command=print_text)  #这里也应使用函数名，而不要加括号\n",
    "button1.pack()\n",
    "\n",
    "while True:\n",
    "    window1.update()"
   ]
  },
  {
   "cell_type": "markdown",
   "id": "b7f4af70-3550-432c-a5c9-a24398467e5f",
   "metadata": {},
   "source": [
    "对于这个例子，为什么不用lambda函数呢？"
   ]
  },
  {
   "cell_type": "code",
   "execution_count": null,
   "id": "c18aed4e-6374-47f6-bbf4-8d16314b31fe",
   "metadata": {},
   "outputs": [],
   "source": [
    "import tkinter\n",
    "\n",
    "window1 = tkinter.Tk()\n",
    "window1.geometry(\"500x500\")\n",
    "\n",
    "button1 = tkinter.Button(master=window1,\n",
    "                         text=\"button\",\n",
    "                         command=lambda :print(\"11111\")\n",
    "                        )\n",
    "button1.pack()\n",
    "\n",
    "while True:\n",
    "    window1.update()"
   ]
  },
  {
   "cell_type": "markdown",
   "id": "0dc6fef7-3761-4c03-b23c-6c44118a9da0",
   "metadata": {},
   "source": [
    "这里需要注意的是，如果鼠标长按按钮，那么按钮不会被触发，而是松开鼠标后触发。这时候，按钮处于一种激活状态。我们可以设置激活时按钮的前景和背景颜色，当我们按住时按钮处于一个颜色时，命令行上什么也不发生，就能很清楚的看出这一点"
   ]
  },
  {
   "cell_type": "code",
   "execution_count": null,
   "id": "d91043eb-f772-4468-aa10-caf76750a625",
   "metadata": {},
   "outputs": [],
   "source": [
    "import tkinter\n",
    "\n",
    "window1 = tkinter.Tk()\n",
    "window1.geometry(\"500x500\")\n",
    "\n",
    "button1 = tkinter.Button(master=window1,\n",
    "                         text=\"button\",\n",
    "                         command=lambda :print(\"11111\"),\n",
    "                         activebackground=\"yellow\"  #这让按钮激活时的背景是黄色的\n",
    "                         #activeforgeround=blue   这让按钮激活时，字是蓝色的\n",
    "                        )\n",
    "button1.pack()\n",
    "\n",
    "while True:\n",
    "    window1.update()"
   ]
  },
  {
   "cell_type": "markdown",
   "id": "aafc1633-961d-4eec-bd34-8b227d0ff3fb",
   "metadata": {},
   "source": [
    "repeatdelay和repeatinterval两个参数可以用于按钮的持续触发。用户长按在按钮上，经过repeatdelay毫秒的延迟后，按钮将会重复触发，每次触发的间隔是repeatinterval毫秒。\n",
    "\n"
   ]
  },
  {
   "cell_type": "code",
   "execution_count": null,
   "id": "47c05b9e-2700-4444-95da-bef1f96abc82",
   "metadata": {},
   "outputs": [],
   "source": [
    "import tkinter\n",
    "\n",
    "window1 = tkinter.Tk()\n",
    "window1.geometry(\"500x500\")\n",
    "\n",
    "button1 = tkinter.Button(master=window1,\n",
    "                         text=\"button\",\n",
    "                         command=lambda :print(\"11111\"),\n",
    "                         activebackground=\"yellow\",\n",
    "                         repeatdelay=1000,  #按下1000毫秒（也就是一秒）后启用回调函数\n",
    "                         repeatinterval=200  #用户持续按下时，间隔200毫秒后，再回调一次\n",
    "                         )\n",
    "button1.pack()\n",
    "\n",
    "while True:\n",
    "    window1.update()"
   ]
  },
  {
   "cell_type": "markdown",
   "id": "dff42bc8-829a-4f65-b4d2-3f9203d3595e",
   "metadata": {},
   "source": [
    "如果你希望做一个防傻开关，譬如只有按下1秒后才判断触发，这之后即使用户不松手也不会再进行下一次，你可以把间隔设置为-1，或者，直接空下来这个参数不填"
   ]
  },
  {
   "cell_type": "code",
   "execution_count": null,
   "id": "112437c4-e754-4062-9dac-d28fb8e032a8",
   "metadata": {},
   "outputs": [],
   "source": [
    "import tkinter\n",
    "\n",
    "window1 = tkinter.Tk()\n",
    "window1.geometry(\"500x500\")\n",
    "\n",
    "button1 = tkinter.Button(master=window1,\n",
    "                         text=\"button\",\n",
    "                         command=lambda :print(\"11111\"),\n",
    "                         activebackground=\"yellow\",\n",
    "                         repeatdelay=1000,\n",
    "                         repeatinterval=-1  #填成-1\n",
    "                         )\n",
    "# button1 = tkinter.Button(master=window1,\n",
    "#                          text=\"button\",\n",
    "#                          command=lambda :print(\"11111\"),\n",
    "#                          activebackground=\"yellow\",\n",
    "#                          repeatdelay=1000  \n",
    "#                          )   #直接不启用\n",
    "button1.pack()\n",
    "\n",
    "while True:\n",
    "    window1.update()"
   ]
  },
  {
   "cell_type": "markdown",
   "id": "3221c8f7-1f68-476b-8c92-d54c923a76d1",
   "metadata": {},
   "source": [
    "所有组件都有state参数，表示组件的状态。一共有三个状态：normal, disabled, active。默认的state是normal，此时用户可以点击按钮。而处于disabled禁用的按钮，用户将无法点击，显示出来也是灰色的。active则是激活状态。"
   ]
  },
  {
   "cell_type": "code",
   "execution_count": null,
   "id": "225b01ab-0348-428f-9e49-28f0f31f154b",
   "metadata": {},
   "outputs": [],
   "source": [
    "import tkinter\n",
    "\n",
    "window1 = tkinter.Tk()\n",
    "window1.geometry(\"500x500\")\n",
    "\n",
    "button1 = tkinter.Button(master=window1,\n",
    "                         text=\"button\",\n",
    "                         command=lambda :print(\"11111\")\n",
    "                         )\n",
    "button1.config(state=\"disabled\")  #这里手动禁用了这个按钮，当然也可以写道按钮声明的那个地方\n",
    "button1.pack()\n",
    "\n",
    "while True:\n",
    "    window1.update()"
   ]
  },
  {
   "cell_type": "markdown",
   "id": "34802aa6-d8d2-4222-8379-70ae8ff69ef9",
   "metadata": {},
   "source": [
    "## 布局\n",
    "\n",
    "上面已经提过，组件需要在创建后，摆放到屏幕上。一共有三种摆放的方式：pack, grid, place。注意：在同一个容器中，只能使用一种布局方式，要么组件都用pack，要么都用grid，要么都用place。接下来介绍一下这三个方法的参数：\n"
   ]
  },
  {
   "cell_type": "markdown",
   "id": "8bdedf77-5bd9-45a8-a40d-5679f427c4d4",
   "metadata": {},
   "source": [
    "### pack\n",
    "pack适用于简单的布局。\n",
    "\n",
    "+ side：组件靠哪个方向排放，可以是\"top\", \"bottom\", \"left\", \"right\"，分别是上下左右，默认是\"top\"\n",
    "+ anchor：当排放组件的可用空间要多于所需空间时，组件靠哪个方向排放，可选项是八个方位和中心（n, s, w, e, nw, ne, sw, se, center）。默认是\"nw\"。\n",
    "+ expand：组件适应窗口。如设置为True，当窗口中有别的可用空间时，将会自动把组件居中摆放，并且拖拽后仍然适应窗口大小。默认为False。\n",
    "+ fill：组件的填充，可选项有\"x\", \"y\", \"both\", \"none\"，默认为\"none\"。分别表示：x方向填充，y方向填充，两个方向都填充，无填充。这将根据参数指定填充组件可用空间，一般和expand一起使用，以保证可用空间足够。（下面都设置了expand=True，窗口未拖拽时尺寸200x80\n",
    "+ padx和pady：分别表示组件与外部容器在x轴和y轴的间隔。可以只提供一个数字，表示左右间隔或上下间隔，也可以提供一个两个项的元组表示左右间隔或上下间隔。不一定要一起设置。\n",
    "+ ipadx和ipady：表示内部与组件边框的间隔，与padx,pady使用方法类似。"
   ]
  },
  {
   "cell_type": "code",
   "execution_count": null,
   "id": "1474ed18-c2f2-4963-ad93-a339e279a66a",
   "metadata": {},
   "outputs": [],
   "source": [
    "\n",
    "window1 = tkinter.Tk()\n",
    "window1.geometry(\"200x200\")\n",
    "\n",
    "lab1 = tkinter.Label(master=window1,text=\"111\")\n",
    "lab1.pack(side=\"left\")   #这将让lab1贴近左边框\n",
    "lab2 = tkinter.Label(master=window1,text=\"222\")\n",
    "lab2.pack(side=\"bottom\")  #这将让lab2贴近底边框\n",
    "\n",
    "while True:\n",
    "    window1.update()"
   ]
  },
  {
   "cell_type": "code",
   "execution_count": null,
   "id": "e67d83cb-a6f1-472d-9786-31ba184fc623",
   "metadata": {},
   "outputs": [],
   "source": [
    "import tkinter\n",
    "\n",
    "window1 = tkinter.Tk()\n",
    "window1.geometry(\"500x500\")\n",
    "\n",
    "lab1 = tkinter.Label(master=window1,text=\"111\")\n",
    "lab1.pack(anchor=\"center\")   #这会把标签1摆在中心\n",
    "lab2 = tkinter.Label(master=window1,text=\"222\")\n",
    "lab2.pack(anchor=\"e\")  #这会把标签2摆在”东边”\n",
    "\n",
    "while True:\n",
    "    window1.update()"
   ]
  },
  {
   "cell_type": "code",
   "execution_count": null,
   "id": "d97e89d2-0131-484c-85d5-d33dcfc288fa",
   "metadata": {},
   "outputs": [],
   "source": [
    "import tkinter\n",
    "\n",
    "window1 = tkinter.Tk()\n",
    "window1.geometry(\"500x500\")\n",
    "\n",
    "lab1 = tkinter.Button(master=window1,text=\"111\")\n",
    "lab1.pack(expand=True)    #这俩会让两个按钮自动居中并适应窗口大小的变化\n",
    "lab2 = tkinter.Button(master=window1,text=\"222\")\n",
    "lab2.pack(expand=True)\n",
    "\n",
    "while True:\n",
    "    window1.update()"
   ]
  },
  {
   "cell_type": "code",
   "execution_count": null,
   "id": "4c8e9d1b-7ef6-4414-a02b-3c8b7e6b567f",
   "metadata": {},
   "outputs": [],
   "source": [
    "import tkinter\n",
    "\n",
    "window1 = tkinter.Tk()\n",
    "window1.geometry(\"500x500\")\n",
    "\n",
    "lab1 = tkinter.Button(master=window1,text=\"111\")\n",
    "lab1.pack(expand=False)   #反之，这俩则会让两个按钮始终堆在一起\n",
    "lab2 = tkinter.Button(master=window1,text=\"222\")\n",
    "lab2.pack(expand=False)\n",
    "\n",
    "while True:\n",
    "    window1.update()"
   ]
  },
  {
   "cell_type": "code",
   "execution_count": null,
   "id": "0e84e0c4-d90d-4f4b-a2b6-c5a6f15ac9c5",
   "metadata": {},
   "outputs": [],
   "source": [
    "import tkinter\n",
    "\n",
    "window1 = tkinter.Tk()\n",
    "window1.geometry(\"500x500\")\n",
    "\n",
    "lab1 = tkinter.Button(master=window1,text=\"111\")\n",
    "lab1.pack(expand=False)\n",
    "lab2 = tkinter.Button(master=window1,text=\"222\")\n",
    "lab2.pack(expand=False,fill=\"both\")   #这里对222这个按钮两个轴都选择了填满，这样它就会随着拉伸框而变长变短\n",
    "\n",
    "while True:\n",
    "    window1.update()"
   ]
  },
  {
   "cell_type": "code",
   "execution_count": null,
   "id": "66ffa2fc-e9d6-495f-83bc-730a98f9ed70",
   "metadata": {},
   "outputs": [],
   "source": [
    "import tkinter\n",
    "\n",
    "window1 = tkinter.Tk()\n",
    "window1.geometry(\"500x500\")\n",
    "\n",
    "lab1 = tkinter.Button(master=window1,text=\"111\")\n",
    "lab1.pack(padx=(20,100),pady=(20,80))  #这个使得第一个按钮靠左\n",
    "lab2 = tkinter.Button(master=window1,text=\"222\")\n",
    "lab2.pack(padx=(100,20))    #这个使得第二个按钮靠右\n",
    "\n",
    "while True:\n",
    "    window1.update()"
   ]
  },
  {
   "cell_type": "code",
   "execution_count": null,
   "id": "20a4dcc8-8bb0-45cc-81a3-45758e242d11",
   "metadata": {},
   "outputs": [],
   "source": [
    "import tkinter\n",
    "\n",
    "window1 = tkinter.Tk()\n",
    "window1.geometry(\"500x500\")\n",
    "\n",
    "lab1 = tkinter.Button(master=window1,text=\"111\")\n",
    "lab1.pack()\n",
    "lab2 = tkinter.Button(master=window1,text=\"222\")\n",
    "lab2.pack(ipadx=200,ipady=200)   #这让第二个按钮变成一个400*400的巨大按钮\n",
    "\n",
    "while True:\n",
    "    window1.update()\n"
   ]
  },
  {
   "cell_type": "markdown",
   "id": "79c56206-9f72-4262-959e-179e86ae9e52",
   "metadata": {},
   "source": [
    "## grid布局\n",
    "\n",
    "网格布局，根据行列指定的位置进行网格布局，grid布局和pack一样都支持padx, pady, ipadx, ipady这几个参数。此外的，有如下：\n",
    "+ row和column：分别指定组件排列的行和列，row和column指定以0为起点，第一行就是row=0。\n",
    "+ rowspan和columnspan：rowspan表示组件占几行的大小，columnspan表示组件占几列的大小。\n",
    "+ sticky：在pack布局中和anchor类似，表示组件的方位，同时也可以达到fill的功能。可以提供八个方位+center，来指定组件在可用空间中的排列位置。"
   ]
  },
  {
   "cell_type": "code",
   "execution_count": null,
   "id": "8f34e91c-eaf3-4620-8c49-a6b8f3aaf459",
   "metadata": {},
   "outputs": [],
   "source": [
    "import tkinter\n",
    "\n",
    "window1 = tkinter.Tk()\n",
    "window1.geometry(\"500x500\")\n",
    "\n",
    "lab1 = tkinter.Button(master=window1,text=\"111\")\n",
    "lab1.grid(row=0,column=0)   #让111在第0行第0列\n",
    "lab2 = tkinter.Button(master=window1,text=\"222\")\n",
    "lab2.grid(row=0,column=1)  #222和111在同一行，后一列\n",
    "lab3 = tkinter.Button(master=window1,text=\"333\")\n",
    "lab3.grid(row=1,column=0)  #下一行，第0列\n",
    "lab4 = tkinter.Button(master=window1,text=\"444\")\n",
    "lab4.grid(row=1,column=1)  #1，1\n",
    "\n",
    "while True:\n",
    "    window1.update()"
   ]
  },
  {
   "cell_type": "markdown",
   "id": "53b76fb1-0e0b-4df1-99af-9292cf83276f",
   "metadata": {},
   "source": [
    "如果此时把column设置为一个很大的数字，比如999，但是容器上的组件只有1列，那么并不会把组件排放到999列，而是排放在2列的位置。"
   ]
  },
  {
   "cell_type": "code",
   "execution_count": null,
   "id": "2dc196d5-25ed-4d1e-8ab4-0591cf0f77f3",
   "metadata": {},
   "outputs": [],
   "source": [
    "import tkinter\n",
    "\n",
    "window1 = tkinter.Tk()\n",
    "window1.geometry(\"500x500\")\n",
    "\n",
    "lab1 = tkinter.Button(master=window1,text=\"111\")\n",
    "lab1.grid(row=0,column=0)\n",
    "lab2 = tkinter.Button(master=window1,text=\"222\")\n",
    "lab2.grid(row=0,column=1,rowspan=2)   #这让他占据1，2两行\n",
    "lab3 = tkinter.Button(master=window1,text=\"333\")\n",
    "lab3.grid(row=1,column=0)\n",
    "\n",
    "while True:\n",
    "    window1.update()"
   ]
  },
  {
   "cell_type": "code",
   "execution_count": null,
   "id": "4dfc20a0-9529-4919-88fb-091d844276e1",
   "metadata": {},
   "outputs": [],
   "source": [
    "import tkinter\n",
    "\n",
    "window1 = tkinter.Tk()\n",
    "window1.geometry(\"500x500\")\n",
    "\n",
    "lab1 = tkinter.Button(master=window1,text=\"111\")\n",
    "lab1.grid(row=0,column=0)\n",
    "lab2 = tkinter.Button(master=window1,text=\"222\")\n",
    "lab2.grid(row=0,column=1)\n",
    "lab3 = tkinter.Button(master=window1,text=\"333\")\n",
    "lab3.grid(row=1,column=0,columnspan=2)  #这让他占据1，2两列\n",
    "\n",
    "while True:\n",
    "    window1.update()"
   ]
  },
  {
   "cell_type": "code",
   "execution_count": null,
   "id": "6cfc52b5-32e1-4c50-a228-a3b193cce10b",
   "metadata": {},
   "outputs": [],
   "source": [
    "import tkinter\n",
    "\n",
    "window1 = tkinter.Tk()\n",
    "window1.geometry(\"500x500\")\n",
    "\n",
    "lab1 = tkinter.Button(master=window1,text=\"111111\")\n",
    "lab1.grid(row=0,column=0)\n",
    "lab2 = tkinter.Button(master=window1,text=\"222222\")\n",
    "lab2.grid(row=0,column=1)\n",
    "lab3 = tkinter.Button(master=window1,text=\"333\")\n",
    "lab3.grid(row=1,column=0,sticky=\"e\")   #这让333位于第1行，第0列，但在这一行的“东边”\n",
    "\n",
    "while True:\n",
    "    window1.update()"
   ]
  },
  {
   "cell_type": "markdown",
   "id": "0e37aa19-2eaf-4627-a588-a7b965767274",
   "metadata": {},
   "source": [
    "## place\n",
    "place布局适用于更加复杂的，需要准确摆放组件的容器。这种布局不是很常用，因为使用比较麻烦，需要提供xy坐标以及组件的width和height（以像素为单位），place布局不支持padx……几个参数。\n",
    "+ x和y：组件在x轴和y轴上的位置，单位为像素。如果不清楚tkinter坐标系，可以翻回去看一下，左上角为(0, 0)。\n",
    "+ anchor：组件的锚选项，可选有八个方位，以及center。意思是：组件anchor位置的坐标设置为x,y。如：anchor=\"n\"的时候，如果x=100, y=100，那么组件的最上面的中间的那个点的位置就是(100, 100)。\n",
    "+ width和height：指定组件排放时的宽和高。\n",
    "+ relx和rely：组件在x轴或y轴相对于整个容器的位置，是一个0-1之间的浮点数，表示组件位于整个容器的位置。比如想要把组件的x设在容器30%的位置，则可以把位置设为0.3.如果想要把组件居中，就设置relx=0.5, rely=0.5, anchor=\"center\"。\n",
    "+ relwidth和relheight：指定组件相对于容器的宽与高，是一个0-1之间的浮点数。组件宽是容器宽的50%，则可以把relwidth设置为0.5."
   ]
  },
  {
   "cell_type": "code",
   "execution_count": null,
   "id": "1d3fe812-4591-45f9-a540-d39eb5cea96c",
   "metadata": {},
   "outputs": [],
   "source": [
    "import tkinter\n",
    "\n",
    "window1 = tkinter.Tk()\n",
    "window1.geometry(\"500x500\")\n",
    "\n",
    "lab1 = tkinter.Button(master=window1,text=\"111111\")\n",
    "lab1.place(x=20,y=100)  #这让lab1位于从左到右20的位置上，从上到下100的位置上\n",
    "\n",
    "while True:\n",
    "    window1.update()"
   ]
  },
  {
   "cell_type": "code",
   "execution_count": null,
   "id": "8ee4b482-fb50-4e28-a96f-31a59c0d7d2d",
   "metadata": {},
   "outputs": [],
   "source": [
    "import tkinter\n",
    "\n",
    "window1 = tkinter.Tk()\n",
    "window1.geometry(\"500x500\")\n",
    "\n",
    "lab1 = tkinter.Button(master=window1,text=\"111111\")\n",
    "lab1.place(x=20,y=100)\n",
    "lab1 = tkinter.Button(master=window1,text=\"222222\")\n",
    "lab1.place(x=20,y=150,anchor=\"center\")    #这个center让x,y指出的位置在“中间”\n",
    "\n",
    "while True:\n",
    "    window1.update()"
   ]
  },
  {
   "cell_type": "code",
   "execution_count": null,
   "id": "d234ec10-2a2e-4a7c-917a-2a7e1241bc3b",
   "metadata": {},
   "outputs": [],
   "source": [
    "import tkinter\n",
    "\n",
    "window1 = tkinter.Tk()\n",
    "window1.geometry(\"500x500\")\n",
    "\n",
    "lab1 = tkinter.Button(master=window1,text=\"111111\")\n",
    "lab1.place(x=20,y=100)\n",
    "lab1 = tkinter.Button(master=window1,text=\"222222\")\n",
    "lab1.place(x=20,y=150,width=100,height=100)    #变大的222\n",
    "\n",
    "while True:\n",
    "    window1.update()"
   ]
  },
  {
   "cell_type": "code",
   "execution_count": null,
   "id": "40a14548-f014-4453-8c70-ca0c24a1d280",
   "metadata": {},
   "outputs": [],
   "source": [
    "import tkinter\n",
    "\n",
    "window1 = tkinter.Tk()\n",
    "window1.geometry(\"500x500\")\n",
    "\n",
    "lab1 = tkinter.Button(master=window1,text=\"111111\")\n",
    "lab1.place(relx=0.5,rely=0.5,anchor=\"center\")    #相对的位置，而非绝对位置\n",
    "\n",
    "while True:\n",
    "    window1.update()"
   ]
  },
  {
   "cell_type": "code",
   "execution_count": null,
   "id": "0b84b9d0-9e14-4cd7-b2b4-de997c35898f",
   "metadata": {},
   "outputs": [],
   "source": [
    "import tkinter\n",
    "\n",
    "window1 = tkinter.Tk()\n",
    "window1.geometry(\"500x500\")\n",
    "\n",
    "lab1 = tkinter.Button(master=window1,text=\"111111\")\n",
    "lab1.place(relwidth=0.5,relheight=0.5)    #相对的宽和高，而非绝对的\n",
    "\n",
    "while True:\n",
    "    window1.update()"
   ]
  },
  {
   "cell_type": "markdown",
   "id": "7e9715f6-8fca-4845-b658-45f9361d3619",
   "metadata": {},
   "source": [
    "## Frame\n",
    "Frame是框架的意思，让你在容器中能够创建一个子容器。使用Frame，可以对组件编组，也可以使你能够在一个窗口中综合使用不同的布局方式。比如，在窗口中使用pack布局，在窗口上的Frame中使用grid布局，这是允许的。\n",
    "\n",
    "Frame没有别的参数，只有几个基本参数，如relief, cursor, highlightcolor等。使用也很简单。"
   ]
  },
  {
   "cell_type": "code",
   "execution_count": null,
   "id": "68dd9ed8-1af0-4fdd-8991-5bf907838453",
   "metadata": {},
   "outputs": [],
   "source": [
    "import tkinter\n",
    "\n",
    "window1 = tkinter.Tk()\n",
    "window1.geometry(\"500x500\")\n",
    "\n",
    "frame1 = tkinter.Frame(master=window1)   #这在window1上创建了一个frame1\n",
    "frame1.pack()     #把他摆放上去\n",
    "\n",
    "lab1 = tkinter.Button(master=frame1,text=\"111111\")   #frame1上做了一个按钮\n",
    "lab1.pack()   #摆放上去\n",
    "\n",
    "while True:\n",
    "    window1.update()"
   ]
  },
  {
   "cell_type": "markdown",
   "id": "dc83e36f-21c2-4139-9e00-2249650d9fd8",
   "metadata": {},
   "source": [
    "看上去，和没有Frame也没有什么区别，我们可以给Frame加上边框（设置relief参数）。注意，设置Frame的时候必须要更改它的边框宽度，即bd(borderwidth)。"
   ]
  },
  {
   "cell_type": "code",
   "execution_count": null,
   "id": "16766da2-09cc-470b-8b6a-b6ff079abbce",
   "metadata": {},
   "outputs": [],
   "source": [
    "import tkinter\n",
    "\n",
    "window1 = tkinter.Tk()\n",
    "window1.geometry(\"500x500\")\n",
    "\n",
    "frame1 = tkinter.Frame(master=window1,bd=2,relief=\"solid\")\n",
    "frame1.pack()\n",
    "\n",
    "lab1 = tkinter.Button(master=frame1,text=\"111111\")\n",
    "lab1.pack()\n",
    "\n",
    "while True:\n",
    "    window1.update()\n"
   ]
  },
  {
   "cell_type": "markdown",
   "id": "77caf001-6634-4b91-8057-1451e63eeded",
   "metadata": {},
   "source": [
    "一个有用的应用是，如果多个组件在一个frame里，那么隐藏这个frame，里面的东西也就都看不见了"
   ]
  },
  {
   "cell_type": "code",
   "execution_count": null,
   "id": "46dd6937-0504-4419-8ea8-b488f14dac4b",
   "metadata": {},
   "outputs": [],
   "source": [
    "import tkinter\n",
    "\n",
    "window1 = tkinter.Tk()\n",
    "window1.geometry(\"500x500\")\n",
    "\n",
    "frame1 = tkinter.Frame(master=window1,bd=2,relief=\"solid\")\n",
    "frame1.pack()\n",
    "\n",
    "lab1 = tkinter.Button(master=frame1,text=\"11111\")\n",
    "lab1.pack()\n",
    "lab2 = tkinter.Button(master=frame1,text=\"22222\")\n",
    "lab2.pack()\n",
    "lab3 = tkinter.Button(master=frame1,text=\"33333\")\n",
    "lab3.pack()\n",
    "\n",
    "lab4 = tkinter.Button(master=window1,text=\"44444\")\n",
    "lab4.pack()\n",
    "\n",
    "while True:\n",
    "    window1.update()\n"
   ]
  },
  {
   "cell_type": "code",
   "execution_count": null,
   "id": "9e2a752e-ac76-4f84-9da0-969efd77ebd6",
   "metadata": {},
   "outputs": [],
   "source": [
    "import tkinter\n",
    "\n",
    "window1 = tkinter.Tk()\n",
    "window1.geometry(\"500x500\")\n",
    "\n",
    "frame1 = tkinter.Frame(master=window1,bd=2,relief=\"solid\")\n",
    "#frame1.pack()    不显示这个框架\n",
    "\n",
    "lab1 = tkinter.Button(master=frame1,text=\"11111\")\n",
    "lab1.pack()\n",
    "lab2 = tkinter.Button(master=frame1,text=\"22222\")\n",
    "lab2.pack()\n",
    "lab3 = tkinter.Button(master=frame1,text=\"33333\")\n",
    "lab3.pack()\n",
    "\n",
    "lab4 = tkinter.Button(master=window1,text=\"44444\")\n",
    "lab4.pack()\n",
    "\n",
    "while True:\n",
    "    window1.update()\n"
   ]
  },
  {
   "cell_type": "markdown",
   "id": "046dff20-a49a-4cfb-8986-1284f8d2f101",
   "metadata": {},
   "source": [
    "容器的winfo_children方法返回一个列表，包含了容器所有的子组件。"
   ]
  },
  {
   "cell_type": "code",
   "execution_count": null,
   "id": "bcc35bee-a97f-4c84-980b-8e1826119a10",
   "metadata": {},
   "outputs": [],
   "source": [
    "import tkinter\n",
    "\n",
    "window1 = tkinter.Tk()\n",
    "window1.geometry(\"500x500\")\n",
    "\n",
    "frame1 = tkinter.Frame(master=window1,bd=2,relief=\"solid\")\n",
    "frame1.pack()\n",
    "\n",
    "lab1 = tkinter.Button(master=frame1,text=\"11111\")\n",
    "lab1.pack()\n",
    "lab2 = tkinter.Button(master=frame1,text=\"22222\")\n",
    "lab2.pack()\n",
    "lab3 = tkinter.Button(master=frame1,text=\"33333\")\n",
    "lab3.pack()\n",
    "\n",
    "for childen in frame1.winfo_children():    #这个挨个返回框架里的子组件\n",
    "    childen.destroy()    #这句话把他们一个一个删掉\n",
    "\n",
    "while True:\n",
    "    window1.update()"
   ]
  },
  {
   "cell_type": "markdown",
   "id": "e051cd4f-cde6-4d22-bf55-c769bb8929b3",
   "metadata": {},
   "source": [
    "### LabelFrame\n",
    "这个组件与Frame类似，但是可以在左上方显示一段文本或是一个组件。\n",
    "\n",
    "参数名称&作用\n",
    "+ text\t显示的文本\n",
    "+ font\t文本的字体\n",
    "+ labelanchor\t文本位于Frame的方位，也是八个方向\n",
    "+ labelwidget\t用一个组件替代显示的文本，这要求这个组件和labelframe在同一个父容器内"
   ]
  },
  {
   "cell_type": "code",
   "execution_count": null,
   "id": "9676ec14-d533-4cae-98a4-2fecb8ff2691",
   "metadata": {},
   "outputs": [],
   "source": [
    "import tkinter\n",
    "\n",
    "window1 = tkinter.Tk()\n",
    "window1.geometry(\"500x500\")\n",
    "\n",
    "frame1 = tkinter.LabelFrame(master=window1,bd=2,relief=\"solid\",text=\"0000\")\n",
    "frame1.pack()\n",
    "\n",
    "lab1 = tkinter.Button(master=frame1,text=\"11111\")\n",
    "lab1.pack()\n",
    "lab2 = tkinter.Button(master=frame1,text=\"22222\")\n",
    "lab2.pack()\n",
    "lab3 = tkinter.Button(master=frame1,text=\"33333\")\n",
    "lab3.pack()\n",
    "\n",
    "while True:\n",
    "    window1.update()\n"
   ]
  },
  {
   "cell_type": "code",
   "execution_count": null,
   "id": "9d81ad34-53b4-4222-9364-f234c3eadd2f",
   "metadata": {},
   "outputs": [],
   "source": [
    "import tkinter\n",
    "\n",
    "window1 = tkinter.Tk()\n",
    "window1.geometry(\"500x500\")\n",
    "\n",
    "lab0 = tkinter.Button(master=window1,text=\"00000\")   #这个组件和下面的ramne1在同一个父容器内\n",
    "\n",
    "frame1 = tkinter.LabelFrame(master=window1,bd=2,relief=\"solid\",labelwidget=lab0)\n",
    "frame1.pack()\n",
    "\n",
    "lab1 = tkinter.Button(master=frame1,text=\"11111\")\n",
    "lab1.pack()\n",
    "lab2 = tkinter.Button(master=frame1,text=\"22222\")\n",
    "lab2.pack()\n",
    "lab3 = tkinter.Button(master=frame1,text=\"33333\")\n",
    "lab3.pack()\n",
    "\n",
    "while True:\n",
    "    window1.update()"
   ]
  },
  {
   "cell_type": "markdown",
   "id": "26d73783-dc93-41d3-923a-23c220da9958",
   "metadata": {},
   "source": [
    "## ENTRY文本框\n",
    "\n",
    "Entry是一个文本框组件，用户可以在里面输入文本。它的参数如下\n",
    "\n",
    "参数名称  &\t作用\n",
    "+ font\t输入文本字体\n",
    "+ show\t输入文本被显示为什么字符\n",
    "+ selectbackground\t选中文字的背景色\n",
    "+ selectforeground\t选中文字颜色\n",
    "+ insertborderwidth\t光标边框宽度（指定时光标样式为raised）\n",
    "+ insertontime\t光标闪烁时，处于“亮”状态的时长（毫秒）\n",
    "+ insertofftime\t光标闪烁时，处于“灭”状态的时长（毫秒）\n",
    "+ insertwidth\t光标的宽度\n",
    "+ selectborderwidth\t选中文字的背景边框宽度\n",
    "+ textvariable\t绑定的StringVar，同步Entry输入的内容\n",
    "+ readonlybackground\t文本框处于readonly状态下的背景颜色\n",
    "+ xscrollcommand\tx方向滚动条（后面介绍）\n",
    "+ validate\t  验证输入合法性的条件\n",
    "+ vcmd & validatecommand    判断输入合法性的回调函数，或者是一个包含回调和所需参数的元组\n",
    "+ invcmd & invalidcommand    输入不合法时执行的回调函数\n",
    "\n",
    "常用的方法\n",
    "\n",
    "方法名称  &\t作用\n",
    "+ get()\t获取文本框的值\n",
    "+ delete(first, last=None)\t删除文本框中从索引first到last的内容\n",
    "+ insert(index, s)\t在文本框中插入文本，index是索引，s是插入内容\n",
    "+ select_range(start, end)\t选中从start到end的文本\n",
    "+ icursor(index)\t将光标移动到索引处"
   ]
  },
  {
   "cell_type": "code",
   "execution_count": null,
   "id": "b254fc96-295e-4dbf-9c57-88e4c9d4bf6d",
   "metadata": {},
   "outputs": [],
   "source": [
    "import tkinter\n",
    "\n",
    "window1 = tkinter.Tk()\n",
    "window1.geometry(\"500x500\")\n",
    "\n",
    "ent = tkinter.Entry(master=window1)\n",
    "ent.pack()    #一个文本框，可以输入文字\n",
    "\n",
    "while True:\n",
    "    window1.update()"
   ]
  },
  {
   "cell_type": "markdown",
   "id": "42c4069f-b903-4fb4-b6a1-b1cdf4cd360a",
   "metadata": {},
   "source": [
    "多用于密码输入的，可以指定文本框的show参数，这样其中输入的数据就会被显示为show的字符"
   ]
  },
  {
   "cell_type": "code",
   "execution_count": null,
   "id": "0ac5ed42-391d-4144-8ddb-f3f7d53edc30",
   "metadata": {},
   "outputs": [],
   "source": [
    "import tkinter\n",
    "\n",
    "window1 = tkinter.Tk()\n",
    "window1.geometry(\"500x500\")\n",
    "\n",
    "lab1 = tkinter.Label(master=window1,text=\"password\")\n",
    "lab1.pack()\n",
    "ent = tkinter.Entry(master=window1,show=\"+\")\n",
    "ent.pack()\n",
    "\n",
    "while True:\n",
    "    window1.update()"
   ]
  },
  {
   "cell_type": "markdown",
   "id": "b81619d6-fe04-4d24-b9f8-dfa770ff1cba",
   "metadata": {},
   "source": [
    "get方法用于获得这个文本框内输入的值"
   ]
  },
  {
   "cell_type": "code",
   "execution_count": null,
   "id": "4e65e951-611d-4294-b6cb-9bfab8aa5636",
   "metadata": {},
   "outputs": [],
   "source": [
    "import tkinter\n",
    "\n",
    "window1 = tkinter.Tk()\n",
    "window1.geometry(\"500x500\")\n",
    "\n",
    "lab1 = tkinter.Label(master=window1,text=\"password\")\n",
    "lab1.pack()\n",
    "ent = tkinter.Entry(master=window1,show=\"+\")\n",
    "ent.pack()\n",
    "\n",
    "while True:\n",
    "    window1.update()\n",
    "    print(ent.get())    #这会随着循环，不断的把文本框中当前的值拿出来打印到控制台上"
   ]
  },
  {
   "cell_type": "markdown",
   "id": "4550c93e-9c65-4207-948f-90c117adbc51",
   "metadata": {},
   "source": [
    "insert方法可以插入一段内容，需要指定一个插入的位置和插入的内容。\n",
    "\n",
    "插入位置可以是是字符的索引，比如0代表在第一个字符前面插入。也可以是一些特殊的值，比如\"end\"（在结尾处插入）, \"insert\"（在光标闪烁处插入） \n",
    "\n",
    "delete方法则用于删除一段内容，需要指定删除的开始和结束位置。位置的设定和insert一样。\n",
    "\n",
    "Entry可以设置为state=\"readonly\"，也就是只读状态。\n",
    "\n",
    "处于readonly的Entry不能被输入，但是用户可以选中Entry里面插入的内容，当然也可以复制。如果是disabled状态，用户不但不能输入，而且不能选中里面的内容。"
   ]
  },
  {
   "cell_type": "code",
   "execution_count": null,
   "id": "3e9e83b7-7b6d-4390-8f67-290619c731e0",
   "metadata": {},
   "outputs": [],
   "source": [
    "import tkinter\n",
    "\n",
    "window1 = tkinter.Tk()\n",
    "window1.geometry(\"500x500\")\n",
    "\n",
    "ent = tkinter.Entry(master=window1)\n",
    "ent.pack()\n",
    "\n",
    "ent.insert(index=0,string=\"hello\")   #这会在0的位置插入一个字符串hello\n",
    "ent.config(state=\"readonly\")     #设置为只读状态，任何人都只能看而不能修改这个文本框\n",
    "\n",
    "while True:\n",
    "    window1.update()\n"
   ]
  },
  {
   "cell_type": "markdown",
   "id": "6c4d85fb-158b-4665-ba6c-2585efcc7bfa",
   "metadata": {},
   "source": [
    "### 输入验证\n",
    "\n",
    "validate, validatecommand, invalidcommand这三个参数用于输入验证。输入验证，也就是判断用户在Entry里面输入的内容是否符合要求。\n",
    "\n",
    "validate参数是输入的条件，也就是在什么情况下，开启输入验证的功能。可以有\"focus\", \"focusin\", \"focusout\", \"key\", \"all\", \"none\"这几个可选。\n",
    "\n",
    "参数值  &\t解释\n",
    "+ focus\t当组件获得或失去焦点时验证\n",
    "+ focusin\t当组件获得输入焦点（光标闪烁）时验证\n",
    "+ focusout\t当组件失去输入焦点时验证\n",
    "+ key\t当输入内容更改时验证，如果验证为False，输入内容不会被插入文本框\n",
    "+ all\t当上述任何一种情况出现时验证\n",
    "+ none\t不进行验证（默认值）\n",
    "+ validatecommand是验证的函数，invalidcommand是验证失败时执行的方法。验证条件成立时，会调用validatecommand方法，这个方法要有一个True或False的返回值。如果是True，则验证通过；如果是False，则验证不通过，将会执行invalidcommand方法。\n"
   ]
  },
  {
   "cell_type": "code",
   "execution_count": null,
   "id": "f93f6bcb-3486-448b-ab2d-ec7eff96edc9",
   "metadata": {},
   "outputs": [],
   "source": [
    "import tkinter\n",
    "\n",
    "window1 = tkinter.Tk()\n",
    "window1.geometry(\"500x500\")\n",
    "\n",
    "def vid():\n",
    "    if ent.get() == \"12345678\":  #验证密码，当且仅当输入的字符串等于12345678时验证通过\n",
    "        print(\"yes\")\n",
    "        return True\n",
    "    else:\n",
    "        print(\"no\")\n",
    "        return False\n",
    "\n",
    "\n",
    "ent = tkinter.Entry(master=window1,validate=\"focusout\",validatecommand=vid)  #这让这个框在失去焦点时触发验证\n",
    "ent.pack()\n",
    "\n",
    "ent2 = tkinter.Entry(master=window1)    #另一个框让上一个框失去焦点\n",
    "ent2.pack()\n",
    "\n",
    "while True:\n",
    "    window1.update()"
   ]
  },
  {
   "cell_type": "markdown",
   "id": "834b0ab9-61ec-4127-a145-91b1a6bc950d",
   "metadata": {},
   "source": [
    "## 事件绑定\n",
    "\n",
    "组件的bind方法可以使组件绑定一个事件和一个回调函数，事件有按下某个键，点击组件等，一般是由用户引发的。事件会被传递给回调函数，然后执行函数。\n",
    "\n",
    "回调函数必须带有一个参数让bind方法传递。当检测到Button-1事件的时候，bind方法会将一个Event对象传递给callback函数的第一个参数，让函数中能够处理检测到事件的信息。\n"
   ]
  },
  {
   "cell_type": "code",
   "execution_count": null,
   "id": "802156e1-1df4-4eba-96b7-999517f86426",
   "metadata": {},
   "outputs": [],
   "source": [
    "import tkinter\n",
    "\n",
    "window1 = tkinter.Tk()\n",
    "window1.geometry(\"500x500\")\n",
    "\n",
    "def pos(event):    #回调函数是把event发生的位置显示在控制台上\n",
    "    print(event.x,event.y)\n",
    "\n",
    "frame1 = tkinter.Frame(master=window1,relief=\"solid\",bd=2)\n",
    "frame1.place(relwidth=0.5,relheight=0.5)    #指定这个框架的相对位置是整个窗口的四分之一\n",
    "frame1.bind(sequence=\"<Button-1>\", func=pos)    #事件绑定为鼠标按下左键，回调函数是显示位置\n",
    "\n",
    "while True:\n",
    "    window1.update()"
   ]
  },
  {
   "cell_type": "markdown",
   "id": "e97677e6-6e0c-4a1f-8137-2744b747a884",
   "metadata": {},
   "source": [
    "允许的按键有如下的这些\n",
    "+ 按键名（keysym）   按键码（keycode）       代表的按键\n",
    " \n",
    "+ Alt_L                64                左边的Alt按键\n",
    "+ Alt_R                113               右边的Alt按键\n",
    "+ BackSpace            22                BackSpace（退格）按键\n",
    "+ Cancel               110               break按键\n",
    "+ Caps_Lock            66                CapsLock（大写字母锁定）按键\n",
    "+ Control_L            37                左边的Control\n",
    "+ Control_R            109               右边的Control\n",
    "+ Delete               107               Delete按键\n",
    "+ Down                 104               ↓按键\n",
    "+ End                  103               End按键\n",
    "+ Escape               9                 Esc按键\n",
    "+ Execute              111               SysReq按键\n",
    "+ F1                   67                F1按键\n"
   ]
  },
  {
   "cell_type": "markdown",
   "id": "d4d6d602-957b-49ff-9a2d-7aa4dcc4188f",
   "metadata": {},
   "source": [
    "### sequence\n",
    "事件序列遵从一定的格式，如果不合理将会报错：\n",
    "\n",
    "+ <Modifier...-Type-Detail>\n",
    "\n",
    "外面由<>尖括号括起来，中间由-减号隔开。 modifier是条件，表示只有当modifier成立的时候才会执行函数，可以有多个；type是主要事件的类型，当type有detail的时候可以省略type（有时候可能弄混）；Detail是事件类型的附带描述，有的事件类型需要Detail，但有的不需要。\n",
    "\n",
    "譬如鼠标的：\n",
    "type是事件的类型，下面是type的名称：\n",
    "\n",
    "type\t                     ————触发条件\t    ————— detail\n",
    "+ Button & ButtonPress   ———— 用户点击鼠标 ————\t1:鼠标左键;2:鼠标中键;3:鼠标右键;4:滑轮向上滚动(Linux);5:滑轮向下滚动(Linux)\n",
    "+ ButtonRelease\t ————  鼠标按键释放\t———— 1:鼠标左键;2:鼠标中键;3:鼠标右键;4:滑轮向上滚动(Linux);5:滑轮向下滚动(Linux)\n",
    "\n",
    "此外\n",
    "\n",
    "+ Active  组件被激活\t\n",
    "+ Deactivate \t组件失去激活\t\n",
    "+ Enter\t 光标进入组件范围(不是按下回车键)\t\n",
    "+ Leave\t 光标离开组件范围\t\n",
    "+ Key&KeyPress    用户按下按键\t可以指定具体的按键名，参见前面的按键表\n",
    "+ KeyRelease\t 用户释放按键\t可以指定具体的按键名，参见前面的按键表\n",
    "+ Map\t 组件被映射\t\n",
    "+ Unmap\t 组件取消映射\t\n",
    "+ FocusIn \t组件获得焦点\t\n",
    "+ FocusOut \t组件失去焦点\t\n",
    "+ Configure \t组件尺寸被调节或拖拽\t\n",
    "+ Destroy\t 组件被销毁\t\n",
    "+ Expose\t 窗口或组件的某部分不再被覆盖\t\n",
    "+ Motion\t 光标在组件内移动\t\n",
    "+ MouseWheel\t 鼠标滚动(Windows和Mac；Linux应为Button-4、5)\t\n",
    "+ Visibility  窗口在屏幕中可见（比如还原最小化、窗口由隐藏变为显示时触发）\t\n"
   ]
  },
  {
   "cell_type": "markdown",
   "id": "d49c4cd3-8974-4b3f-b483-0b9c9dd3aecc",
   "metadata": {},
   "source": [
    "### EVENT对象\n",
    "\n",
    "大多数Event是所有事件类型可共用的，但有一些不是。下面是Event的属性。\n",
    "\n",
    "属性\t————解释\t————仅限事件类型\n",
    "+ widget\t发生事件的组件\t\n",
    "+ serial\t事件序列号\t\n",
    "+ type\t事件类型\t\n",
    "+ time\t发生事件的时间\t\n",
    "+ x\t鼠标在窗口中的x位置\t\n",
    "+ y\t鼠标在窗口中的y位置\t\n",
    "+ x_root\t鼠标在整个屏幕上的x位置\tButton, ButtonRelease, Key, KeyRelease, Motion\n",
    "+ y_root\t鼠标在整个屏幕上的y位置\tButton, ButtonRelease, Key, KeyRelease, Motion\n",
    "+ num\t鼠标按下的键\tButton, ButtonRelease\n",
    "+ focus\t窗口是否有焦点\tEnter, Leave\n",
    "+ width\t窗口的宽度\tConfigure, Expose\n",
    "+ height\t窗口的高度\tConfigure, Expose\n",
    "+ keycode\t按键代码（上面的按键表中有）\tKey, KeyRelease\n",
    "+ char\t按键的字符\tKey, KeyRelease\n",
    "+ keysym\t按键名称\tKey, KeyRelease\n",
    "+ keysym_num\t按键名称的数字形式\tKey, KeyRelease\n",
    "+ state\t事件状态（数字）\tButton, ButtonRelease, Key, KeyRelease, Enter, Leave, Motion\n",
    "+ state\t事件状态（字符串）\tVisibility\n",
    "+ delta\t滚轮滚动信息\tMouseWheel"
   ]
  },
  {
   "cell_type": "code",
   "execution_count": null,
   "id": "df630117-56b5-4e9f-9dca-bf88f91f890f",
   "metadata": {},
   "outputs": [],
   "source": [
    "import tkinter\n",
    "\n",
    "window1 = tkinter.Tk()\n",
    "window1.geometry(\"500x500\")\n",
    "\n",
    "def date(event):\n",
    "    print(event.type,event.num,event.x,event.y)   #这个方法把鼠标事件的信息打印到控制台上\n",
    "\n",
    "frame1 = tkinter.Frame(master=window1,relief=\"solid\",bd=2)\n",
    "frame1.place(relwidth=0.5,relheight=0.5)\n",
    "frame1.bind(sequence=\"<Button>\", func=date)\n",
    "\n",
    "while True:\n",
    "    window1.update()\n"
   ]
  },
  {
   "cell_type": "markdown",
   "id": "3fb83e59-34c2-425c-8c8e-9d1be5b1118c",
   "metadata": {},
   "source": [
    "\n",
    "### 虚拟事件\n",
    "tkinter中同样可以定义自己的事件，也就是虚拟事件，事件格式略有不同，表示为《event》，event是事件名，用两层尖括号括起来。当窗口检测到虚拟事件的时候，会执行绑定的回调函数并传递一个event。\n",
    "\n",
    "既然是自定义事件，那么触发方式也需要自定。event_generate方法可以向组件发送一个事件。这个事件可以是自定义事件，也可以不是自定义事件，而是<Button>那种自带的事件类型。\n",
    "\n",
    "Widget.event_generate(sequence, **kw)\n",
    "\n",
    "sequence是事件的名称，* *kw是一些参数，表示传递的event对象里面的属性，比如可以设置x=1,y=1等。不过这些参数和event的属性略有不同，只有部分和Event的属性一样的才会能够调用，所以建议你尽量不要设置**kw，以免出现错误。\n",
    "\n",
    "下面就来自定义一个事件，这个自定义事件如果bind没有收到，不会报错。"
   ]
  },
  {
   "cell_type": "code",
   "execution_count": null,
   "id": "f0e8564f-3c3e-459b-9085-0b75e68b178b",
   "metadata": {},
   "outputs": [],
   "source": [
    "\n",
    "from tkinter import *\n",
    " \n",
    "def generate_click_event():\n",
    "    root.event_generate(\"<<MyClickEvent>>\")\n",
    " \n",
    "root = Tk()\n",
    "root.geometry(\"200x200\")\n",
    " \n",
    "Button(root, text=\"点击\", command=generate_click_event).pack()\n",
    "root.bind(\"<<MyClickEvent>>\", lambda event:print(\"点了一下\"))\n",
    " \n",
    "mainloop()"
   ]
  },
  {
   "cell_type": "markdown",
   "id": "1cf13a6a-2fb0-42ce-949b-4934c5ff5f27",
   "metadata": {},
   "source": [
    "这个例子展示了一个联合用法"
   ]
  },
  {
   "cell_type": "code",
   "execution_count": null,
   "id": "783662f5-5b3e-4c74-9530-ffb5251a3697",
   "metadata": {},
   "outputs": [],
   "source": [
    "import tkinter\n",
    "\n",
    "window1 = tkinter.Tk()\n",
    "window1.geometry(\"500x500\")\n",
    "\n",
    "ent1 = tkinter.Entry(master=window1)\n",
    "ent1.place(relx=0.6,rely=0.1)\n",
    "\n",
    "\n",
    "def date(event):\n",
    "    string111 = f\"{event.type},{event.num},{event.x},{event.y}\"\n",
    "    print(string111)     #这个方法把鼠标事件的信息打印到控制台上\n",
    "    ent1.delete(first=0,last=len(ent1.get()))     #先删光文本框里的内容\n",
    "    ent1.insert(index=0,string=string111)        #再插入新的内容\n",
    "\n",
    "frame1 = tkinter.Frame(master=window1,relief=\"solid\",bd=2)\n",
    "frame1.place(relwidth=0.5,relheight=0.5)\n",
    "frame1.bind(sequence=\"<Button>\", func=date)\n",
    "\n",
    "while True:\n",
    "    window1.update()"
   ]
  },
  {
   "cell_type": "markdown",
   "id": "093bb814-aae6-407d-a198-61d06c488f40",
   "metadata": {},
   "source": [
    "## 2.8 Variable(tkinter变量)的trace_add方法\n",
    "tkinter中所有的var有StringVar()文本变量对象，IntVar()整数变量对象，DoubleVar()浮点数变量对象，BooleanVar()布尔值变量对象，可以绑定到组件。它们都是继承tkinter.Variable，用法都是一样的。这几个之前略有提及过\n",
    "\n",
    "trace_add方法用于监测variable的变化，后面绑定一个回调函数。当检测到变化发生时，执行后面的函数。\n",
    "\n",
    "这种监测有3种模式：write, read, unset。write是指写入，当变量内容出现改动时调用函数，常用于Entry组件中，用户输入追踪。read是指读取，当读取变量信息(var.get())的时候执行函数。unset是指变量删除，当执行Variable的__del__方法，或是del var的时候执行函数。\n"
   ]
  },
  {
   "cell_type": "code",
   "execution_count": null,
   "id": "f09c9da4-6568-47a2-b62c-cbd9933eb069",
   "metadata": {},
   "outputs": [],
   "source": [
    "import tkinter as tk\n",
    "\n",
    "window = tk.Tk()\n",
    "window.geometry(\"500x500\")\n",
    "\n",
    "def on_var_change(name, index, mode):   #每当var发生改变，就调用这个函数\n",
    "    print(f\"变量被修改: 当前值={var.get()}\")\n",
    "\n",
    "var = tk.StringVar(value=\"hello\")\n",
    "var.trace_add(\"write\", on_var_change)  # 正确的绑定方式\n",
    "\n",
    "entry = tk.Entry(window, textvariable=var)  # 绑定变量\n",
    "entry.pack()\n",
    "\n",
    "def append_text():          #这个函数把var的值修改成加一个hello\n",
    "    var.set(f\"{var.get()} and hello\")\n",
    "\n",
    "button = tk.Button(window, text=\"追加文本\", command=append_text)\n",
    "button.pack()\n",
    "\n",
    "window.mainloop()  # 使用标准主循环"
   ]
  },
  {
   "cell_type": "markdown",
   "id": "268a5e3d-2078-45d1-bf27-e91d154c102e",
   "metadata": {},
   "source": [
    "trace传递给回调函数的参数\n",
    "trace_add方法一共会传递3个参数。第一个参数是var的名称(name)，可以在variable的参数里面设置，第二个参数是列表的索引（如果var是列表），第三个参数是设置的trace的模式。这三个参数中，只有第三个可能有点用处。\n"
   ]
  },
  {
   "cell_type": "markdown",
   "id": "79374501-044c-4507-8baa-b6956b465e90",
   "metadata": {},
   "source": [
    "##  Toplevel\n",
    "Toplevel可以用来创建一个新的窗口，它必须继承一个窗口，可以是Tk，也可以是Toplevel。Toplevel方法和Tk方法一样。\n",
    "\n",
    "但是Toplevel并不需要调用mainloop，只需要调用根窗口的mainloop方法即可。当Tk关闭时，Toplevel也会关闭。"
   ]
  },
  {
   "cell_type": "code",
   "execution_count": null,
   "id": "9ba3f63a-43d7-416e-909f-20c5aec07ae3",
   "metadata": {},
   "outputs": [],
   "source": [
    "import tkinter as tk\n",
    "\n",
    "window1 = tk.Tk()\n",
    "window1.geometry(\"500x500\")\n",
    "\n",
    "window2 = tk.Toplevel(master=window1)  #创建一个tpolevel\n",
    "\n",
    "window1.mainloop()  # 使用标准主循环\n"
   ]
  },
  {
   "cell_type": "code",
   "execution_count": null,
   "id": "02255b84-f66d-4133-9791-ec880bce0875",
   "metadata": {},
   "outputs": [],
   "source": []
  },
  {
   "cell_type": "code",
   "execution_count": null,
   "id": "a90ce6d3-9a5f-4ee9-bb85-e4e687f279fb",
   "metadata": {},
   "outputs": [],
   "source": []
  },
  {
   "cell_type": "code",
   "execution_count": null,
   "id": "572bd1c5-e05e-49fc-ab29-c7f9b91f2e9d",
   "metadata": {},
   "outputs": [],
   "source": []
  },
  {
   "cell_type": "code",
   "execution_count": null,
   "id": "194d346d-61aa-4c83-b49d-97549a56c1f1",
   "metadata": {},
   "outputs": [],
   "source": []
  },
  {
   "cell_type": "code",
   "execution_count": null,
   "id": "33b64ce3-7368-4f4b-9133-51438460001a",
   "metadata": {},
   "outputs": [],
   "source": []
  },
  {
   "cell_type": "code",
   "execution_count": null,
   "id": "a9e4f1b3-8c48-4a10-91fe-24287f4bf35e",
   "metadata": {},
   "outputs": [],
   "source": []
  },
  {
   "cell_type": "code",
   "execution_count": null,
   "id": "dd008950-8bd4-4f98-b2c0-68195798dc74",
   "metadata": {},
   "outputs": [],
   "source": []
  },
  {
   "cell_type": "code",
   "execution_count": null,
   "id": "94cd571d-c03a-4800-a080-1167b38060d2",
   "metadata": {},
   "outputs": [],
   "source": []
  },
  {
   "cell_type": "code",
   "execution_count": null,
   "id": "a4828d66-70e9-427f-b3b7-9ea6b04d0717",
   "metadata": {},
   "outputs": [],
   "source": []
  },
  {
   "cell_type": "code",
   "execution_count": null,
   "id": "2089ffee-4e71-4895-b887-7e2469971d12",
   "metadata": {},
   "outputs": [],
   "source": []
  },
  {
   "cell_type": "code",
   "execution_count": null,
   "id": "f6aba665-5bfa-44e6-8296-83cf304d1b8e",
   "metadata": {},
   "outputs": [],
   "source": []
  },
  {
   "cell_type": "code",
   "execution_count": null,
   "id": "b0fc9719-d480-49e1-9e46-30e7ef1a27bf",
   "metadata": {},
   "outputs": [],
   "source": []
  },
  {
   "cell_type": "code",
   "execution_count": null,
   "id": "6845fb07-f2a0-4694-8363-d18f1585f6bf",
   "metadata": {},
   "outputs": [],
   "source": []
  },
  {
   "cell_type": "code",
   "execution_count": null,
   "id": "fbbf9a15-a667-4249-9a76-028846cfa01f",
   "metadata": {},
   "outputs": [],
   "source": []
  },
  {
   "cell_type": "code",
   "execution_count": null,
   "id": "ca59ecac-b25e-42c2-baf5-5486aed21639",
   "metadata": {},
   "outputs": [],
   "source": []
  },
  {
   "cell_type": "code",
   "execution_count": null,
   "id": "797d0a9e-fd19-4f79-920c-d864c118d794",
   "metadata": {},
   "outputs": [],
   "source": []
  },
  {
   "cell_type": "code",
   "execution_count": null,
   "id": "47581c23-b55b-41be-8f17-48605df3892e",
   "metadata": {},
   "outputs": [],
   "source": []
  },
  {
   "cell_type": "code",
   "execution_count": null,
   "id": "5eada0c8-4a41-442a-8a5c-1f9bb873fae6",
   "metadata": {},
   "outputs": [],
   "source": []
  },
  {
   "cell_type": "code",
   "execution_count": null,
   "id": "57d69d06-e1bc-411d-8db9-8b7f091c5427",
   "metadata": {},
   "outputs": [],
   "source": []
  },
  {
   "cell_type": "code",
   "execution_count": null,
   "id": "0895ed5f-db3b-4923-b51a-a5176705568d",
   "metadata": {},
   "outputs": [],
   "source": []
  },
  {
   "cell_type": "code",
   "execution_count": null,
   "id": "5daabf93-990c-4191-ba46-6846fa08eecc",
   "metadata": {},
   "outputs": [],
   "source": []
  },
  {
   "cell_type": "code",
   "execution_count": null,
   "id": "b1377ebc-18a0-4ab5-b078-2010a1deddfa",
   "metadata": {},
   "outputs": [],
   "source": []
  },
  {
   "cell_type": "code",
   "execution_count": null,
   "id": "f4a53a9b-cfd6-4350-a201-4cfa6a74daef",
   "metadata": {},
   "outputs": [],
   "source": []
  },
  {
   "cell_type": "code",
   "execution_count": null,
   "id": "d2816213-e75c-4b69-a303-55198d0bc6bf",
   "metadata": {},
   "outputs": [],
   "source": []
  },
  {
   "cell_type": "code",
   "execution_count": null,
   "id": "0a19b602-947f-40f0-af29-f0621596048d",
   "metadata": {},
   "outputs": [],
   "source": []
  },
  {
   "cell_type": "code",
   "execution_count": null,
   "id": "774a6fe4-56e4-42e3-b581-86fe4a2ad6ec",
   "metadata": {},
   "outputs": [],
   "source": []
  },
  {
   "cell_type": "code",
   "execution_count": null,
   "id": "a751e8bc-917a-4f80-b881-c2efe5c00838",
   "metadata": {},
   "outputs": [],
   "source": []
  },
  {
   "cell_type": "code",
   "execution_count": null,
   "id": "3716406b-3f82-41f8-87bd-588b981810ce",
   "metadata": {},
   "outputs": [],
   "source": []
  },
  {
   "cell_type": "code",
   "execution_count": null,
   "id": "ff531382-dbf6-42e6-babb-121a436485c9",
   "metadata": {},
   "outputs": [],
   "source": []
  },
  {
   "cell_type": "code",
   "execution_count": null,
   "id": "354ebe40-c5cd-4fe4-82c9-ce2220d6518b",
   "metadata": {},
   "outputs": [],
   "source": []
  },
  {
   "cell_type": "code",
   "execution_count": null,
   "id": "a6b0e033-8b7a-46f3-879f-fccffcf28da4",
   "metadata": {},
   "outputs": [],
   "source": []
  },
  {
   "cell_type": "code",
   "execution_count": null,
   "id": "64195e31-2b42-4d45-a804-0ca0170e7a8e",
   "metadata": {},
   "outputs": [],
   "source": []
  },
  {
   "cell_type": "code",
   "execution_count": null,
   "id": "1507284b-97db-438c-b64f-291c6e331788",
   "metadata": {},
   "outputs": [],
   "source": []
  },
  {
   "cell_type": "code",
   "execution_count": null,
   "id": "3f339a56-5cc5-447b-aea0-8234822af048",
   "metadata": {},
   "outputs": [],
   "source": []
  },
  {
   "cell_type": "code",
   "execution_count": null,
   "id": "36555486-7a84-43dd-baad-818f10492a79",
   "metadata": {},
   "outputs": [],
   "source": []
  },
  {
   "cell_type": "code",
   "execution_count": null,
   "id": "96dc880a-1e58-4724-b8d2-3c0709889e34",
   "metadata": {},
   "outputs": [],
   "source": []
  },
  {
   "cell_type": "code",
   "execution_count": null,
   "id": "5c966665-2c56-40a6-9d26-c2c5f0b9616e",
   "metadata": {},
   "outputs": [],
   "source": []
  },
  {
   "cell_type": "code",
   "execution_count": null,
   "id": "776226d5-2500-4e34-aa71-a86f657390ae",
   "metadata": {},
   "outputs": [],
   "source": []
  },
  {
   "cell_type": "code",
   "execution_count": null,
   "id": "3352b2fd-164e-499a-83d5-10d5cfb56f14",
   "metadata": {},
   "outputs": [],
   "source": []
  },
  {
   "cell_type": "code",
   "execution_count": null,
   "id": "0f4e8666-507f-4410-9f32-cb997e61ab4f",
   "metadata": {},
   "outputs": [],
   "source": []
  },
  {
   "cell_type": "code",
   "execution_count": null,
   "id": "dce78a0c-dd48-4be3-8aaa-fd665f5b3f89",
   "metadata": {},
   "outputs": [],
   "source": []
  },
  {
   "cell_type": "code",
   "execution_count": null,
   "id": "10788896-2f58-41b9-b4c3-63b7f9cab333",
   "metadata": {},
   "outputs": [],
   "source": []
  },
  {
   "cell_type": "code",
   "execution_count": null,
   "id": "55c057fe-274a-482a-a628-3534aaa88ce8",
   "metadata": {},
   "outputs": [],
   "source": []
  },
  {
   "cell_type": "code",
   "execution_count": null,
   "id": "27944784-c3fc-426b-8a5e-42525791bea7",
   "metadata": {},
   "outputs": [],
   "source": []
  },
  {
   "cell_type": "code",
   "execution_count": null,
   "id": "a4424fdd-3277-472d-99ce-b19738b6a43b",
   "metadata": {},
   "outputs": [],
   "source": []
  },
  {
   "cell_type": "code",
   "execution_count": null,
   "id": "238187bf-412b-4f38-84c0-9d2a8144a4dd",
   "metadata": {},
   "outputs": [],
   "source": []
  },
  {
   "cell_type": "code",
   "execution_count": null,
   "id": "a57550ae-6bb9-42cd-838f-1bc5137ee070",
   "metadata": {},
   "outputs": [],
   "source": []
  },
  {
   "cell_type": "code",
   "execution_count": null,
   "id": "58ae01c3-d750-437e-bcf3-068183bbde13",
   "metadata": {},
   "outputs": [],
   "source": []
  },
  {
   "cell_type": "code",
   "execution_count": null,
   "id": "2dbf8422-6b87-425a-a1cb-9f406e7257f9",
   "metadata": {},
   "outputs": [],
   "source": []
  }
 ],
 "metadata": {
  "kernelspec": {
   "display_name": "myENV1",
   "language": "python",
   "name": "myenv1"
  },
  "language_info": {
   "codemirror_mode": {
    "name": "ipython",
    "version": 3
   },
   "file_extension": ".py",
   "mimetype": "text/x-python",
   "name": "python",
   "nbconvert_exporter": "python",
   "pygments_lexer": "ipython3",
   "version": "3.12.7"
  }
 },
 "nbformat": 4,
 "nbformat_minor": 5
}
