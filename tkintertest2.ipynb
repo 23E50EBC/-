{
 "cells": [
  {
   "cell_type": "markdown",
   "id": "6ad21280-6c7c-4502-9613-c8cd826d53a6",
   "metadata": {},
   "source": [
    "## Checkbutton\n",
    "Checkbutton即多选框(选择按钮），用户可以勾选或取消勾选。Checkbutton可以绑定一个variable，一般是BooleanVar。Checkbutton拥有Button的参数之外，还可以有一些别的参数。\n",
    "\n",
    "参数  &\t作用\n",
    "+ variable\t与Checkbutton选择相关的Variable\n",
    "+ onvalue\t多选框选中时variable的值，默认为1\n",
    "+ offvalue\t多选框未选中时variable的值，默认为0\n",
    "+ selectcolor\t选择方框的颜色\n",
    "+ selectimage\t选中时的图片（须指定image参数）\n",
    "+ indicatoron\t是否显示为勾选框样式，默认为True\n",
    "\n",
    "常用方法： \n",
    "\n",
    "方法\t& 作用\n",
    "+ select()\t选中多选框\n",
    "+ deselect()\t取消选中选框\n",
    "+ toggle()\t切换选框的选中状态(反选选框)\n",
    "+ invoke()\t调用Checkbutton的command(disabled无效)\n",
    "+ flash()\t使Checkbutton闪烁几次(在normal和active几次切换)"
   ]
  },
  {
   "cell_type": "code",
   "execution_count": null,
   "id": "bfc43104-0252-4b2a-8411-9740f5a763f1",
   "metadata": {},
   "outputs": [],
   "source": [
    "import tkinter as tk\n",
    "\n",
    "window1 = tk.Tk()\n",
    "window1.geometry(\"500x500\")\n",
    "\n",
    "ver1 = tk.BooleanVar()\n",
    "ver1.set(False)\n",
    "\n",
    "button1 = tk.Checkbutton(master=window1,text=\"click me\",command=lambda :print(ver1.get()),variable=ver1)\n",
    "#创建了一个选择按钮，并且绑定一个布尔变量，按钮的回调函数是展示变量的值\n",
    "button1.pack()\n",
    "\n",
    "window1.mainloop()  # 使用标准主循环"
   ]
  },
  {
   "cell_type": "markdown",
   "id": "62f27a88-9cca-48de-9250-09683be742c6",
   "metadata": {},
   "source": [
    "indicatoron参数\n",
    "Checkbutton有两种样式，一种是上面的勾选框样式，还可以设置为一个按钮盒的样式。默认是显示为勾选框的样式，如果把indicatoron设置为False也可以设置为按钮的样式。\n",
    "\n"
   ]
  },
  {
   "cell_type": "code",
   "execution_count": null,
   "id": "6217b294-a7b3-4c77-b2fe-788b9d9783ac",
   "metadata": {},
   "outputs": [],
   "source": [
    "import tkinter as tk\n",
    "\n",
    "window1 = tk.Tk()\n",
    "window1.geometry(\"500x500\")\n",
    "\n",
    "ver1 = tk.BooleanVar()\n",
    "ver1.set(False)\n",
    "\n",
    "button1 = tk.Checkbutton(\n",
    "    master=window1,\n",
    "    text=\"click me\",\n",
    "    command=lambda :print(ver1.get()),\n",
    "    variable=ver1,\n",
    "    indicatoron=False  #这把它变成了一个不会自动弹起的按钮盒\n",
    ")\n",
    "button1.pack()\n",
    "\n",
    "window1.mainloop()  # 使用标准主循环"
   ]
  },
  {
   "cell_type": "markdown",
   "id": "56462162-f577-4076-8835-49e5a9fb52b0",
   "metadata": {},
   "source": [
    "## Radiobutton\n",
    "与多选框相对应，Radiobutton是单选框。多个单选框可以绑定一个variable，这个variable的值是选中的单选框的值。\n",
    "\n",
    "Radiobutton的参数和Checkbutton几乎完全一样，不同的是Radiobutton没有onvalue和offvalue这两个参数，而是由value这个参数代替。value参数的作用是：指定单选框选中时绑定的Var的值。\n",
    "\n",
    "常用方法和Checkbutton介绍的几个基本一样，但是没有toggle方法。"
   ]
  },
  {
   "cell_type": "code",
   "execution_count": null,
   "id": "d5a9444f-0dbd-42ea-bb65-5c082154e732",
   "metadata": {},
   "outputs": [],
   "source": [
    "import tkinter as tk\n",
    "\n",
    "window1 = tk.Tk()\n",
    "window1.geometry(\"500x500\")\n",
    "\n",
    "ver1 = tk.IntVar()\n",
    "ver1.set(1)\n",
    "\n",
    "button1 = tk.Radiobutton(master=window1,text=\"set to 1\",command=lambda :print(ver1.get()),variable=ver1,value=1)\n",
    "#绑定变量var1，并且在按下时吧值设定为1，下面俩类似\n",
    "button1.pack()\n",
    "button2 = tk.Radiobutton(master=window1,text=\"set to 2\",command=lambda :print(ver1.get()),variable=ver1,value=2)\n",
    "button2.pack()\n",
    "button3 = tk.Radiobutton(master=window1,text=\"set to 3\",command=lambda :print(ver1.get()),variable=ver1,value=3)\n",
    "button3.pack()\n",
    "\n",
    "window1.mainloop()  # 使用标准主循环"
   ]
  },
  {
   "cell_type": "markdown",
   "id": "7d9d212a-1275-40ae-b568-df6483ed5271",
   "metadata": {},
   "source": [
    "上面的三个单选框，都绑定了一个variable，还指定了一个value参数。当variable的值被设为单选框的value，那么这个选框将是选中的状态。当点击单选按钮，variable的值就被设为这个单选按钮的值。因为variable的值只能有一个，所以你只能在绑定该variable的单选按钮里面选中一个单选按钮。"
   ]
  },
  {
   "cell_type": "markdown",
   "id": "b661a863-dd00-4426-a3b2-b1605e91921f",
   "metadata": {},
   "source": [
    "## Menu\n",
    "Menu也就是菜单，菜单一般有两种，一种是窗口上的菜单，一种是弹出式菜单\n",
    "\n",
    "参数\t& 作用\n",
    "+ tearoff\t是否允许用户分离菜单，默认为True\n",
    "+ title\t分离菜单的标题\n",
    "+ tearoffcommand\t用户分离菜单时执行的事件\n",
    "+ postcommand\t菜单被打开时执行的事件\n",
    "\n",
    "常用方法：\n",
    "\n",
    "方法  &\t作用\n",
    "+ add(itemType, **kw)\t添加一个菜单项,itemType是command, cascade, checkbutton, radiobutton, separator之一\n",
    "+ insert(index, itemType, **kw)\t在index位置插入菜单项\n",
    "+ add_command(**kw)\t添加命令菜单项\n",
    "+ add_cascade(**kw)\t添加分层菜单项\n",
    "+ add_checkbutton(**kw)\t添加多选框菜单项\n",
    "+ add_radiobutton(**kw)\t添加单选框菜单项\n",
    "+ add_separator(**kw)\t添加菜单分割线\n",
    "+ delete(index1, index2=None)\t删除位于index1（到index2之间）的菜单项\n",
    "+ entrycget(index, option)\t获取位于index菜单项的option值\n",
    "+ entryconfig(index, **kw)\t更改位于index菜单项的参数的值\n",
    "+ post(x, y)\t在(x, y)位置弹出菜单\n",
    "+ unpost()\t取消弹出菜单\n",
    "+ invoke(index)\t执行位于index菜单项的command，如果菜单项是单选框或多选框，则选中它们。\n",
    "+ type(index)\t返回位于index菜单项的类型，是command, cascade, checkbutton, radiobutton, separator之一"
   ]
  },
  {
   "cell_type": "markdown",
   "id": "06babfd0-aab1-4c8a-864b-ca2b78d9a138",
   "metadata": {},
   "source": [
    "### add方法\n",
    "add方法可以添加菜单项。第一个参数itemType指定菜单项的类型，马上会介绍到。add(itemType)也可以被add_itemType()所替换。你还可以提供如下参数**kw"
   ]
  },
  {
   "cell_type": "code",
   "execution_count": null,
   "id": "9fc07f04-8c52-4bee-8370-d00d496e1943",
   "metadata": {},
   "outputs": [],
   "source": [
    "import tkinter as tk\n",
    "\n",
    "window1 = tk.Tk()\n",
    "window1.geometry(\"500x500\")\n",
    "\n",
    "menu1 = tk.Menu(master=window1)   #这两个绑定都是必须的\n",
    "window1.config(menu=menu1)\n",
    "\n",
    "menu1.add(itemType=\"command\",label=\"click me\",command=lambda :print(\"clicked\"))  #设置类型，标签，回调函数\n",
    "\n",
    "window1.mainloop()  "
   ]
  },
  {
   "cell_type": "markdown",
   "id": "ec1f8a68-db71-467b-993c-3a0c6f94dfed",
   "metadata": {},
   "source": [
    "### add_cascade方法\n",
    "菜单可以有层级之分。最上层的菜单就是绑定了root的菜单，下面可以有一些子菜单，继承绑定窗口的父菜单，实现分层效果。"
   ]
  },
  {
   "cell_type": "code",
   "execution_count": null,
   "id": "f0cb54df-7def-4107-aa11-937d69edacba",
   "metadata": {},
   "outputs": [],
   "source": [
    "# 导入tkinter模块并简写为tk\n",
    "import tkinter as tk\n",
    "\n",
    "# 创建主窗口对象，Tk()是tkinter的主窗口类\n",
    "window1 = tk.Tk()\n",
    "\n",
    "# 设置窗口大小为500x500像素\n",
    "window1.geometry(\"500x500\")\n",
    "\n",
    "# 创建一个顶级菜单栏(menu1)，将其绑定到主窗口window1\n",
    "menu1 = tk.Menu(master=window1)\n",
    "\n",
    "# 将menu1配置为window1的主菜单\n",
    "window1.config(menu=menu1)\n",
    "\n",
    "# 创建一个下拉菜单(menu2)，作为menu1的子菜单\n",
    "menu2 = tk.Menu(master=menu1)\n",
    "\n",
    "# 在menu2中添加一个菜单项：\n",
    "# itemType=\"command\" - 这是一个可点击的菜单项\n",
    "# label=\"click me 2\" - 菜单项显示文本\n",
    "# command=lambda:print(\"clicked2\") - 点击时执行匿名函数打印\"clicked2\"\n",
    "menu2.add(itemType=\"command\", label=\"click me 2\", command=lambda: print(\"clicked2\"))\n",
    "\n",
    "# 将menu2作为级联菜单添加到menu1中：\n",
    "# itemType=\"cascade\" - 表示这是一个包含子菜单的菜单项\n",
    "# label=\"aaaaa\" - 主菜单栏上显示的文本\n",
    "# menu=menu2 - 指定关联的子菜单\n",
    "menu1.add(itemType=\"cascade\", label=\"aaaaa\", menu=menu2)\n",
    "\n",
    "# 启动主事件循环，显示窗口并等待用户交互\n",
    "window1.mainloop()\n"
   ]
  },
  {
   "cell_type": "markdown",
   "id": "9736e22e-17a1-400d-8a49-9573ec241912",
   "metadata": {},
   "source": [
    "下面一个例子是级联的级联"
   ]
  },
  {
   "cell_type": "code",
   "execution_count": null,
   "id": "73655c99-2c41-4327-971f-ff1719b82c0a",
   "metadata": {},
   "outputs": [],
   "source": [
    "# 导入tkinter模块并简写为tk\n",
    "import tkinter as tk\n",
    "\n",
    "# 创建主窗口对象\n",
    "window1 = tk.Tk()\n",
    "\n",
    "# 设置窗口大小为500x500像素\n",
    "window1.geometry(\"500x500\")\n",
    "\n",
    "# 创建主菜单栏(menu1)，绑定到主窗口window1\n",
    "menu1 = tk.Menu(master=window1)\n",
    "\n",
    "# 将menu1设置为window1的主菜单\n",
    "window1.config(menu=menu1)\n",
    "\n",
    "# 创建第一个下拉菜单(menu2)，作为menu1的子菜单\n",
    "menu2 = tk.Menu(master=menu1)\n",
    "\n",
    "# 在menu2中添加一个可点击菜单项：\n",
    "# 点击时会打印\"clicked2\"\n",
    "menu2.add(itemType=\"command\", label=\"click me 2\", command=lambda: print(\"clicked2\"))\n",
    "\n",
    "# 将menu2作为级联菜单添加到menu1中：\n",
    "# 显示为\"click me 1\"，点击后会展开menu2\n",
    "menu1.add(itemType=\"cascade\", label=\"click me 1\", menu=menu2)\n",
    "\n",
    "# 创建第二个下拉菜单(menu3)，作为menu2的子菜单(三级菜单)\n",
    "menu3 = tk.Menu(master=menu2)\n",
    "\n",
    "# 在menu3中添加一个可点击菜单项：\n",
    "# 点击时会打印\"clicked3\"\n",
    "menu3.add(itemType=\"command\", label=\"click me 3\", command=lambda: print(\"clicked3\"))\n",
    "\n",
    "# 将menu3作为级联菜单添加到menu2中：\n",
    "# 显示为\"click me 4\"，点击后会展开menu3\n",
    "menu2.add(itemType=\"cascade\", label=\"click me 4\", menu=menu3)\n",
    "\n",
    "# 启动主事件循环\n",
    "window1.mainloop()\n"
   ]
  },
  {
   "cell_type": "markdown",
   "id": "ea822472-3a4d-4276-bf36-434f324a6b26",
   "metadata": {},
   "source": [
    "当我们点击菜单上的虚线，可以跳出一个工具窗口，这就是分离菜单。分离菜单功能有很多问题，并且大多数应用都没有这个功能，建议大家把它禁用。如果想要禁用分离菜单功能，可以在定义Menu的时候把tearoff参数设置为False。"
   ]
  },
  {
   "cell_type": "code",
   "execution_count": null,
   "id": "5b15896a-9ac1-499d-a831-6effa7b3755c",
   "metadata": {},
   "outputs": [],
   "source": [
    "import tkinter as tk\n",
    "\n",
    "window1 = tk.Tk()\n",
    "window1.geometry(\"500x500\")\n",
    "\n",
    "menu1 = tk.Menu(master=window1,tearoff=False)   #这个代码和前面一个唯一的区别就是现在吧分割线关掉了\n",
    "window1.config(menu=menu1)\n",
    "\n",
    "menu2 = tk.Menu(master=menu1,tearoff=False)\n",
    "menu2.add(itemType=\"command\",label=\"click me 2\",command=lambda :print(\"clicked2\"))\n",
    "\n",
    "menu1.add(itemType=\"cascade\",label=\"click me 1\",menu=menu2)\n",
    "\n",
    "menu3 = tk.Menu(master=menu2,tearoff=False)\n",
    "menu3.add(itemType=\"command\",label=\"click me 3\",command=lambda :print(\"clicked3\"))\n",
    "menu2.add(itemType=\"cascade\",label=\"click me 4\",menu=menu3)\n",
    "\n",
    "window1.mainloop()"
   ]
  },
  {
   "cell_type": "markdown",
   "id": "bd3c3194-87fc-4e18-906f-2b8b45dcc818",
   "metadata": {},
   "source": [
    "### accelerator参数\n",
    "accelerator可以对菜单项进行补充。一般这个参数指定的是一个加速键（快捷键）名称，比如Ctrl+N这种"
   ]
  },
  {
   "cell_type": "code",
   "execution_count": null,
   "id": "59c70473-6e0a-43f4-a4d5-d4245b4d27cd",
   "metadata": {},
   "outputs": [],
   "source": [
    "import tkinter as tk\n",
    "\n",
    "window1 = tk.Tk()\n",
    "window1.geometry(\"500x500\")\n",
    "\n",
    "menu1 = tk.Menu(master=window1,tearoff=False)\n",
    "window1.config(menu=menu1)\n",
    "\n",
    "menu2 = tk.Menu(master=menu1,tearoff=False)\n",
    "menu2.add(itemType=\"command\",label=\"click me 2\",command=lambda :print(\"clicked2\"),accelerator=\"A\")\n",
    "#这会让click me 2后面出现一个“A”\n",
    "\n",
    "menu1.add(itemType=\"cascade\",label=\"click me 1\",menu=menu2)\n",
    "\n",
    "window1.mainloop()"
   ]
  },
  {
   "cell_type": "markdown",
   "id": "8c1d45b3-8042-482c-9e56-dceb2a28ab5c",
   "metadata": {},
   "source": [
    "不过，即使指定了accelerator参数也没有真正的绑定快捷键，需要使用bind来进行绑定。\n",
    "\n"
   ]
  },
  {
   "cell_type": "code",
   "execution_count": null,
   "id": "d3af3520-d6be-4a2f-9a56-c961cc5cd24d",
   "metadata": {},
   "outputs": [],
   "source": [
    "import tkinter as tk\n",
    "\n",
    "window1 = tk.Tk()\n",
    "window1.geometry(\"500x500\")\n",
    "\n",
    "menu1 = tk.Menu(master=window1,tearoff=False)\n",
    "window1.config(menu=menu1)\n",
    "\n",
    "def new(event=None):\n",
    "    #设置为event=None使函数能同时适应两种调用方式：\n",
    "      #菜单点击（无参数）\n",
    "      #键盘事件（带event参数）\n",
    "    print(\"aaaaa\")\n",
    "\n",
    "menu2 = tk.Menu(master=menu1,tearoff=False)\n",
    "menu2.add(itemType=\"command\",label=\"click me 2\",command=new,accelerator=\"A\")\n",
    "window1.bind(sequence=\"<A>\",func=new)\n",
    "\n",
    "menu1.add(itemType=\"cascade\",label=\"click me 1\",menu=menu2)\n",
    "\n",
    "window1.mainloop()"
   ]
  },
  {
   "cell_type": "markdown",
   "id": "3406b29f-799a-4511-b7d6-e29c80fedb66",
   "metadata": {},
   "source": [
    "### add_separator方法\n",
    "add_separator方法可以给菜单添加一条分割线。"
   ]
  },
  {
   "cell_type": "code",
   "execution_count": null,
   "id": "daaa9295-9de6-4414-9fb4-54fc8086420d",
   "metadata": {},
   "outputs": [],
   "source": [
    "import tkinter as tk\n",
    "\n",
    "window1 = tk.Tk()\n",
    "window1.geometry(\"500x500\")\n",
    "\n",
    "menu1 = tk.Menu(master=window1,tearoff=False)\n",
    "window1.config(menu=menu1)\n",
    "\n",
    "menu2 = tk.Menu(master=menu1,tearoff=False)\n",
    "menu2.add(itemType=\"command\",label=\"click me 2\",command=lambda :print(\"click me 2\"))\n",
    "menu2.add_separator()    #加一个分割线\n",
    "menu2.add_command(label=\"click me 3\",command=lambda :print(\"click me 3\"))\n",
    "\n",
    "menu1.add(itemType=\"cascade\",label=\"click me 1\",menu=menu2)\n",
    "\n",
    "window1.mainloop()"
   ]
  },
  {
   "cell_type": "markdown",
   "id": "a4f02cfb-0250-49a5-8a09-0a088af06773",
   "metadata": {},
   "source": [
    "### 弹出菜单\n",
    "如果要弹出菜单，那么不需要绑定到窗口(root.config(menu=menu))，当然绑定也没关系。弹出窗口需要使用post方法，需要提供x, y两个参数。但这两个参数必须是屏幕上的位置。"
   ]
  },
  {
   "cell_type": "code",
   "execution_count": null,
   "id": "4d56059a-1646-4d54-9b5e-549a0da55a82",
   "metadata": {},
   "outputs": [],
   "source": [
    "# 导入tkinter模块，并简写为tk\n",
    "import tkinter as tk\n",
    "\n",
    "# 定义显示菜单的函数\n",
    "def show_menu():\n",
    "    # 使用post方法在屏幕坐标(0,0)位置显示弹出菜单\n",
    "    popup_menu.post(x=0, y=0)  # 这里的x,y是屏幕坐标系的绝对位置\n",
    "\n",
    "# 创建主窗口对象\n",
    "window1 = tk.Tk()\n",
    "# 设置窗口大小为500x500像素\n",
    "window1.geometry(\"500x500\")\n",
    "\n",
    "# 创建弹出菜单对象\n",
    "popup_menu = tk.Menu(window1, tearoff=False)  # tearoff=False表示菜单不能分离\n",
    "# 向弹出菜单添加一个命令项\n",
    "popup_menu.add_command(\n",
    "    label=\"选项1\",  # 菜单项显示文本\n",
    "    command=lambda: print(\"选择选项1\")  # 点击菜单项时执行的命令\n",
    ")\n",
    "\n",
    "# 创建按钮对象\n",
    "button = tk.Button(\n",
    "    master=window1,  # 指定按钮所属的父容器\n",
    "    text=\"点击弹出菜单\",  # 按钮显示文本\n",
    "    command=show_menu  # 按钮点击时调用的函数\n",
    ")\n",
    "# 使用pack布局管理器放置按钮\n",
    "button.pack()\n",
    "\n",
    "# 启动主事件循环，等待用户交互\n",
    "window1.mainloop()\n"
   ]
  },
  {
   "cell_type": "markdown",
   "id": "bd9cca3f-402b-4396-be4c-c95a60798533",
   "metadata": {},
   "source": [
    "##  Listbox\n",
    "\n",
    "Listbox是列表框，里面可以添加一些文本项目，在列表框中竖向显示。可以让用户选择它们。\n",
    "\n",
    "参数&\t作用\n",
    "+ width\t组件的宽，单位是字母的平均宽度\n",
    "+ height\t组件的高，单位是项目的数量\n",
    "+ listvariable\t设置与Listbox关联的variable，是一个StringVar，不同项目用空格隔开（不推荐）。\n",
    "+ selectmode\t组件的选择模式，可以是\"browse\"(单选，可用鼠标拖动或方向键改变选择，默认模式), \"single\"(单选，只能鼠标点击改变选择), \"extended\"(多选，需拖动鼠标或结合Shift或Ctrl键才能多选), \"multiple\"(多选，点击多个选项就能多次选择)\n",
    "+ xscrollcommand\tx方向滚动条（下一节介绍）\n",
    "+ yscrollcommand\ty方向滚动条（下一节介绍）\n",
    "\n",
    "常用方法： \n",
    "\n",
    "方法\t&作用\n",
    "+ activate(index)\t将位于index位置的项目激活（在下方画下划线）\n",
    "+ bbox(index)\t返回位于index位置的项目的边框尺寸信息，返回值是(xoffset, yoffset, width, height)，表示左上角的偏移和宽高。\n",
    "+ curselection()\t返回被选中选项的索引的元组\n",
    "+ delete(first, last=None)\t删除first到last的选项\n",
    "+ insert(index, *elements)\t在列表框中添加单或多个选项\n",
    "+ get(first, last=None)\t如果不指定last，返回first位置的选项；如果指定last，返回两个位置之间的选项\n",
    "+ index(index)\t返回index位置的数字索引，如index(\"end\")返回最后一个选项的数字索引\n",
    "+ itemconfig(index, **option)\t设置index位置的选项的参数，可以设置的有：bg(background), fg(foreground), selectbackground, selectforeground\n",
    "+ itemcget(index, option)\t返回index位置的选项的option参数选项值\n",
    "+ see(index)\t\n",
    "滚动列表框，使位于index位置的项目可见\n",
    "\n",
    "+ selection_set(first, last=None)\t选中first到last的项目\n",
    "+ selection_clear(first, last=None)\t取消选中first到last的项目\n",
    "+ selection_includes(index)\t返回位于index位置的项目的选中状态，1表示选中，0表示未选中\n",
    "+ selection_anchor(index)\t在index位置的项目设置锚点（类似于一个标记，可通过特殊索引\"anchor\"访问锚点）\n",
    "+ size()\t返回列表框中选项数量"
   ]
  },
  {
   "cell_type": "code",
   "execution_count": null,
   "id": "809ce237-d85e-49a8-836e-ad3bb156c1ca",
   "metadata": {},
   "outputs": [],
   "source": [
    "import tkinter as tk\n",
    "\n",
    "window1 = tk.Tk()\n",
    "window1.geometry(\"500x500\")\n",
    "\n",
    "lb = tk.Listbox(master=window1)   #创建一个空的列表盒子\n",
    "lb.pack()\n",
    "\n",
    "window1.mainloop()"
   ]
  },
  {
   "cell_type": "markdown",
   "id": "98a3b39a-6e87-46a7-93f4-76e9a0e53aa9",
   "metadata": {},
   "source": [
    "用insert插入一个表项，注意这里不要用显式的实参匹配，容易报错"
   ]
  },
  {
   "cell_type": "code",
   "execution_count": null,
   "id": "6e922660-d933-4cc5-8c6d-2403908b7edd",
   "metadata": {},
   "outputs": [],
   "source": [
    "import tkinter as tk\n",
    "\n",
    "window1 = tk.Tk()\n",
    "window1.geometry(\"500x500\")\n",
    "\n",
    "lb = tk.Listbox(master=window1)   #创建一个空的列表盒子\n",
    "lb.pack()\n",
    "\n",
    "lb.insert(tk.END,\"item\")   # - 向列表框插入一个项目\n",
    "# tk.END表示插入到列表末尾\n",
    "# \"item\"是要插入的文本内容\n",
    "\n",
    "window1.mainloop()"
   ]
  },
  {
   "cell_type": "markdown",
   "id": "4d3c89fa-5e29-47e9-b3de-e37b228e8b90",
   "metadata": {},
   "source": [
    "### 虚拟事件ListboxSelect\n",
    "Listbox中有项目选中时会产生一个虚拟事件ListboxSelect，可以被bind捕捉到。\n",
    "\n"
   ]
  },
  {
   "cell_type": "code",
   "execution_count": null,
   "id": "54746b9e-ca05-4d7f-8afa-c4daac801955",
   "metadata": {},
   "outputs": [],
   "source": [
    "import tkinter as tk\n",
    "\n",
    "window1 = tk.Tk()\n",
    "window1.geometry(\"500x500\")\n",
    "\n",
    "lb = tk.Listbox(master=window1)\n",
    "lb.pack()\n",
    "\n",
    "# 向列表框末尾(tk.END)插入一个文本为\"item\"的项目\n",
    "lb.insert(tk.END,\"item\")\n",
    "\n",
    "# 绑定列表框的选择事件\n",
    "# sequence=\"<<ListboxSelect>>\"表示监听列表框的选择变化事件\n",
    "# func=lambda event:print(\"select\")是事件处理函数，当选择变化时打印\"select\"\n",
    "lb.bind(sequence=\"<<ListboxSelect>>\",func=lambda event:print(\"select\"))\n",
    "\n",
    "window1.mainloop()"
   ]
  },
  {
   "cell_type": "markdown",
   "id": "61e4aa66-f97e-4f28-8a8c-4623bc85a0a6",
   "metadata": {},
   "source": [
    "这个项目的信息仍然作为event被传递给回调函数"
   ]
  },
  {
   "cell_type": "code",
   "execution_count": null,
   "id": "364bf5d1-deb4-49bb-ad42-a972ba5303df",
   "metadata": {},
   "outputs": [],
   "source": [
    "import tkinter as tk\n",
    "\n",
    "window1 = tk.Tk()\n",
    "window1.geometry(\"500x500\")\n",
    "\n",
    "lb = tk.Listbox(master=window1)\n",
    "lb.pack()\n",
    "\n",
    "for i in range(5):\n",
    "    lb.insert(tk.END, str(i))\n",
    "\n",
    "#绑定列表框的选择事件\n",
    "#\"<<ListboxSelect>>\"是列表框特有的虚拟事件，当选择变化时触发\n",
    "lb.bind(\"<<ListboxSelect>>\",\n",
    "        lambda e: print(f\"selected{e.widget.curselection()}\"))\n",
    "# 使用lambda表达式定义事件处理函数\n",
    "# e是事件对象，e.widget获取触发事件的控件\n",
    "# curselection()返回当前选中项的索引(元组形式)\n",
    "# 打印选中项的索引\n",
    "\n",
    "window1.mainloop()"
   ]
  },
  {
   "cell_type": "markdown",
   "id": "13b7ec61-cb21-4045-b584-47bf0f1b0652",
   "metadata": {},
   "source": [
    "### see方法\n",
    "see方法可以滚动列表框，使位于index位置的项目可见。"
   ]
  },
  {
   "cell_type": "code",
   "execution_count": null,
   "id": "3cd4325e-d64a-4c3e-b1ff-363fc2cc0c99",
   "metadata": {},
   "outputs": [],
   "source": [
    "import tkinter as tk\n",
    "\n",
    "window1 = tk.Tk()\n",
    "window1.geometry(\"500x500\")\n",
    "\n",
    "lb = tk.Listbox(master=window1)\n",
    "lb.pack()\n",
    "\n",
    "for i in range(50):\n",
    "    lb.insert(tk.END, str(i))\n",
    "\n",
    "lb.bind(\"<<ListboxSelect>>\",\n",
    "        lambda e: print(f\"selected{e.widget.curselection()}\"))\n",
    "\n",
    "button1 = tk.Button(master=window1,text=\"see\",command=lambda :lb.see(\"end\"))   # 按钮点击时执行的操作：滚动列表框到底部\n",
    "button1.pack()\n",
    "\n",
    "window1.mainloop()"
   ]
  },
  {
   "cell_type": "markdown",
   "id": "2b71be77-ccf5-4d09-a1d2-8c7b69735bd7",
   "metadata": {},
   "source": [
    "举个例子"
   ]
  },
  {
   "cell_type": "code",
   "execution_count": null,
   "id": "f9c1d3fa-05ec-4946-817f-baefe182da1e",
   "metadata": {},
   "outputs": [],
   "source": [
    "import tkinter as tk\n",
    "\n",
    "window1 = tk.Tk()\n",
    "window1.geometry(\"500x500\")\n",
    "\n",
    "lb = tk.Listbox(master=window1)\n",
    "lb.pack()\n",
    "\n",
    "ent1 = tk.Entry(master=window1)\n",
    "ent1.pack()\n",
    "\n",
    "def addfunc(event=None):   #event=None参数使函数可以作为事件处理器或普通函数调用\n",
    "    strx = ent1.get()  #获取输入框中的文本内容\n",
    "    lb.insert(tk.END,str(strx))  #将获取的文本插入到列表框的末尾(tk.END)，str()确保插入的是字符串类型\n",
    "\n",
    "button1 = tk.Button(master=window1,text=\"add\",command=addfunc)  #点击按钮时会执行addfunc函数\n",
    "button1.pack()\n",
    "\n",
    "window1.mainloop()"
   ]
  },
  {
   "cell_type": "code",
   "execution_count": null,
   "id": "e67881ca-cfc8-4f8c-bbc2-4bc84c889320",
   "metadata": {},
   "outputs": [],
   "source": [
    "import tkinter as tk\n",
    "\n",
    "window1 = tk.Tk()\n",
    "window1.geometry(\"500x500\")\n",
    "\n",
    "lb = tk.Listbox(master=window1)\n",
    "lb.pack()\n",
    "\n",
    "ent1 = tk.Entry(master=window1)\n",
    "ent1.pack()\n",
    "\n",
    "def addfunc(event=None):\n",
    "    strx = ent1.get()\n",
    "    lb.insert(tk.END,str(strx))\n",
    "\n",
    "button1 = tk.Button(master=window1,text=\"add\",command=addfunc)\n",
    "button1.pack()\n",
    "\n",
    "# 定义删除函数\n",
    "def removefunc(event=None):\n",
    "    # 获取当前选中项的索引并删除\n",
    "    # curselection()返回选中项的索引元组，[0]获取第一个选中项\n",
    "    lb.delete(lb.curselection()[0])  # 删除指定索引的列表项\n",
    "\n",
    "# 创建删除按钮\n",
    "button2 = tk.Button(master=window1,text=\"remove\",command=removefunc)  # 绑定点击事件到removefunc函数\n",
    "button2.pack()\n",
    "\n",
    "window1.mainloop()"
   ]
  },
  {
   "cell_type": "markdown",
   "id": "9ec1eb5f-9afd-4ddc-9987-04559e530c8e",
   "metadata": {},
   "source": [
    "## Scrollbar\n",
    "Scrollbar也就是滚动条，可以起到滚动组件，使用户能够完整看到的效果。但也有部分组件不支持滚动条。\n",
    "滚动条没有常规的参数height，只有width。\n",
    "\n",
    "参数\t&作用\n",
    "+ activerelief\t滚动条的滑块被激活时的relief样式\n",
    "+ command\t滚动条被滚动更新时执行的回调函数，会传递给函数几个参数，可以直接传递给需滚动组件的xview和yview方法。\n",
    "+ elementborderwidth\t滚动条和箭头的边框宽度\n",
    "+ jump\t是否当鼠标松开长按滚动条才调用command，默认为False（此参数似乎无效）。\n",
    "+ orient\t滚动条的方向，可以是\"horizontal\"(水平，横向), \"vertical\"(垂直，竖向)，默认是vertical\n",
    "+ repeatdelay\t鼠标长按在滚动条上时，持续触发滚动条的准备时长，默认为300(ms)\n",
    "+ repeatinterval\t持续触发滚动条的间隔，默认为100(ms)\n",
    "常用方法：\n",
    "\n",
    "方法\t&作用\n",
    "+ get()\t返回滑块的位置，是一个元组，包含滑块左边或上边的位置，和滑块右边或下边的位置，都是0.0 ~ 1.0之间的浮点数，代表占整个滚动条的比例\n",
    "+ set(*args)\t设置滑块的位置，需提供两个参数，分别是滑块左边或上边的位置，和滑块右边或下边的位置，都是0.0 ~ 1.0之间的浮点数，代表占整个滚动条的比例\n"
   ]
  },
  {
   "cell_type": "code",
   "execution_count": null,
   "id": "1cd97f5e-42a7-4bf8-bfd5-93aeb7749ff0",
   "metadata": {},
   "outputs": [],
   "source": [
    "import tkinter as tk\n",
    "\n",
    "window1 = tk.Tk()\n",
    "window1.geometry(\"500x500\")\n",
    "\n",
    "sb = tk.Scrollbar(master=window1)  #创建一个滚动条，但这不会有任何作用\n",
    "sb.pack()\n",
    "\n",
    "window1.mainloop()"
   ]
  },
  {
   "cell_type": "markdown",
   "id": "27ab0e81-20f2-405b-90c5-7a1a6e57a076",
   "metadata": {},
   "source": [
    "这段代码在屏幕右侧绘制了一个滚动条。这个滚动条没有绑定任何可滚动的组件，所以没有任何用处。在映射滚动条时，通常会加入fill=\"y\"这个参数，让滚动条完全伸展开，方便拖拽（在水平滚动条中是fill=\"x\"，grid布局则要指定sticky）。"
   ]
  },
  {
   "cell_type": "markdown",
   "id": "1ba0fb54-28bb-47d2-ac39-5eefe590a1cb",
   "metadata": {},
   "source": [
    "### 滚动条的基本工作原理是：\n",
    "+ 滚动条(Scrollbar)本身不包含内容，必须与可滚动组件(Listbox/Text/Canvas等)双向绑定\n",
    "这种绑定是双向通信关系：滚动条操作会控制组件显示位置，组件内容变化也会更新滚动条状态\n",
    "+ 关键绑定方法：\n",
    "    + 组件配置：通过组件的yscrollcommand/xscrollcommand参数绑定到滚动条的set方法\n",
    "    + 滚动条配置：通过滚动条的command参数绑定到组件的yview/xview方法\n",
    "+ 内部通信流程：\n",
    "当用户拖动滚动条时 → 触发滚动条的command → 调用组件的yview/xview方法 → 组件调整显示位置\n",
    "当组件内容变化时 → 触发组件的yscrollcommand → 调用滚动条的set方法 → 更新滚动条滑块位置"
   ]
  },
  {
   "cell_type": "code",
   "execution_count": null,
   "id": "36e559a0-e943-4b5e-8b25-842c4a87c72e",
   "metadata": {},
   "outputs": [],
   "source": [
    "\n",
    "import tkinter as tk\n",
    "\n",
    "window1 = tk.Tk()\n",
    "window1.geometry(\"500x500\")\n",
    "\n",
    "# 创建滚动条并放置在窗口右侧\n",
    "sb = tk.Scrollbar(window1)\n",
    "sb.pack(side=\"right\", fill=\"y\")\n",
    "\n",
    "# 创建Listbox并关联滚动条\n",
    "lb1 = tk.Listbox(\n",
    "    window1,\n",
    "    yscrollcommand=sb.set  # Listbox滚动时更新滚动条状态\n",
    ")\n",
    "lb1.pack(side=\"left\", fill=\"both\", expand=True)\n",
    "\n",
    "# 配置滚动条控制Listbox\n",
    "sb.config(command=lb1.yview)  # 滚动条操作时控制Listbox显示位置\n",
    "\n",
    "# 添加测试数据\n",
    "for i in range(50):\n",
    "    lb1.insert(tk.END, f\"列表项 {i}\")\n",
    "\n",
    "window1.mainloop()\n"
   ]
  },
  {
   "cell_type": "markdown",
   "id": "43c89d28-943e-4277-9d63-242914cc11d8",
   "metadata": {},
   "source": [
    "+ yscrollcommand=sb.set 部分：\n",
    "  \n",
    "    这是Listbox对滚动条的\"回调通知\"机制\n",
    "    当Listbox内容滚动时(比如用鼠标滚轮)，会自动调用sb.set方法\n",
    "    set方法会接收3个参数：滚动开始位置、结束位置和滑块大小\n",
    "    这样滚动条就能实时反映Listbox的当前滚动位置\n",
    "    如果没有这个设置，滚动条滑块位置不会随Listbox内容滚动而更新\n",
    "\n",
    "+ command=lb1.yview 部分：\n",
    "\n",
    "    这是滚动条对Listbox的\"控制指令\"机制\n",
    "    当用户拖动滚动条时，会自动调用lb1.yview方法\n",
    "    yview方法接收1个参数(或2个参数)，指示Listbox应该显示哪部分内容\n",
    "    这样滚动条就能控制Listbox的显示区域\n",
    "    如果没有这个设置，拖动滚动条不会影响Listbox显示\n",
    "\n",
    "\n",
    "上面的sb.config(command=lb1.yview)这句如果不写，滑动条不能控制listbox，反之 yscrollcommand=sb.set 不写则会让操作listbox不影响滑动条\n",
    ")"
   ]
  },
  {
   "cell_type": "markdown",
   "id": "05e7b786-8688-4064-bca4-80ab8dcc40a2",
   "metadata": {},
   "source": [
    "## Scale\n",
    "Scale也就是标尺组件。用户可以通过拖拽滑块，设定一个数值。\n",
    "\n",
    "参数&\t作用\n",
    "+ length\t设置Scale的长度\n",
    "+ width\t设置Scale的宽度\n",
    "+ label\t在Scale上显示一个文字标签\n",
    "+ command\tScale数值改变时执行的回调函数，会传递给该函数当前Scale的值\n",
    "+ from_\t设置Scale的最小值，默认是0\n",
    "+ to\t设置Scale的最大值，默认是100\n",
    "+ digits\t刻度数值最多显示的数字位数\n",
    "+ orient\t设置Scale的朝向，可以是\"horizontal\"(水平)或\"vertical\"(垂直)\n",
    "+ resolution\t设置滑块拖动的步长(也就是拖动一次滑块，滑块移动的数值长度)，默认为1\n",
    "+ showvalue\t设置是否在滑块旁边显示当前的数值\n",
    "+ sliderlength\t设置滑块的长度\n",
    "+ sliderrelief\t设置滑块的样式，默认是\"raised\"\n",
    "+ tickinterval\t设置显示的刻度，默认不显示\n",
    "+ troughcolor\t设置凹槽的颜色\n",
    "+ variable\t设置与Scale值相关联的variable\n",
    "\n",
    "常用方法：\n",
    "\n",
    "方法\t&作用\n",
    "+ get()\t返回Scale的值\n",
    "+ set(value)\t设置Scale的值"
   ]
  },
  {
   "cell_type": "code",
   "execution_count": null,
   "id": "b1d2262c-20b5-4916-aac3-902d9f992b9e",
   "metadata": {},
   "outputs": [],
   "source": [
    "\n",
    "import tkinter as tk\n",
    "\n",
    "window1 = tk.Tk()\n",
    "window1.geometry(\"500x500\")\n",
    "\n",
    "scale = tk.Scale(master=window1)\n",
    "scale.pack()\n",
    "\n",
    "window1.mainloop()\n"
   ]
  },
  {
   "cell_type": "markdown",
   "id": "dfda42f5-8d76-46b8-8085-a205b95b6277",
   "metadata": {},
   "source": [
    "### from_和to参数\n",
    "设置这两个参数可以设定拖拽的最小和最大值。\n",
    "\n"
   ]
  },
  {
   "cell_type": "code",
   "execution_count": null,
   "id": "7782bdd1-7cf8-4c31-a4d9-63a284a679e1",
   "metadata": {},
   "outputs": [],
   "source": [
    "\n",
    "import tkinter as tk\n",
    "\n",
    "window1 = tk.Tk()\n",
    "window1.geometry(\"500x500\")\n",
    "\n",
    "scale = tk.Scale(master=window1,from_=10,to=30)\n",
    "scale.pack()\n",
    "\n",
    "window1.mainloop()"
   ]
  },
  {
   "cell_type": "markdown",
   "id": "928d80d0-a381-4066-8094-a4e099ff7478",
   "metadata": {},
   "source": [
    "### tickinterval参数\n",
    "显示刻度值"
   ]
  },
  {
   "cell_type": "code",
   "execution_count": null,
   "id": "d6ef3785-51a3-404a-9882-f4e6483ddb4b",
   "metadata": {},
   "outputs": [],
   "source": [
    "\n",
    "import tkinter as tk\n",
    "\n",
    "window1 = tk.Tk()\n",
    "window1.geometry(\"500x500\")\n",
    "\n",
    "scale = tk.Scale(master=window1,from_=10,to=30,tickinterval=True)\n",
    "scale.pack()\n",
    "\n",
    "window1.mainloop()"
   ]
  },
  {
   "cell_type": "markdown",
   "id": "df3687f9-df31-46a8-8b57-e927680abd28",
   "metadata": {},
   "source": [
    "### label参数\n",
    "label参数可以显示在Scale旁边显示一个标签。"
   ]
  },
  {
   "cell_type": "code",
   "execution_count": null,
   "id": "85aba983-268f-4c24-8a62-6e015f4ee5f2",
   "metadata": {},
   "outputs": [],
   "source": [
    "import tkinter as tk\n",
    "\n",
    "window1 = tk.Tk()\n",
    "window1.geometry(\"500x500\")\n",
    "\n",
    "scale = tk.Scale(master=window1,from_=10,to=30,tickinterval=True,label=\"我是滑块\")\n",
    "scale.pack()\n",
    "\n",
    "window1.mainloop()"
   ]
  },
  {
   "cell_type": "markdown",
   "id": "dd0c47d3-9f73-49dc-9432-4081368a2aae",
   "metadata": {},
   "source": [
    "### resolution参数\n",
    "resolution参数设置Scale的步长，默认为1。如resolution=0.1, from_=0, to=100，那么你可以在0到100之间拖动滑块，每次可拖动0.1个数值。每次拖动的数值都是0.1，不能小于这个数。"
   ]
  },
  {
   "cell_type": "code",
   "execution_count": null,
   "id": "670a3d67-726a-495c-a7cc-dc7dbee46330",
   "metadata": {},
   "outputs": [],
   "source": [
    "import tkinter as tk\n",
    "\n",
    "window1 = tk.Tk()\n",
    "window1.geometry(\"500x500\")\n",
    "\n",
    "scale = tk.Scale(master=window1,from_=10,to=30,tickinterval=True,label=\"我是滑块\",resolution=0.5)\n",
    "scale.pack()\n",
    "\n",
    "window1.mainloop()"
   ]
  },
  {
   "cell_type": "markdown",
   "id": "956c26cb-ade5-444e-98e5-5d5a3037a94f",
   "metadata": {},
   "source": [
    "举个例子，一个rgb值合成器"
   ]
  },
  {
   "cell_type": "code",
   "execution_count": null,
   "id": "1ed8bec0-a66b-4181-afc1-df5bc00ca7a7",
   "metadata": {},
   "outputs": [],
   "source": [
    "import tkinter as tk\n",
    "\n",
    "window1 = tk.Tk()\n",
    "window1.geometry(\"500x500\")\n",
    "\n",
    "frame1 = tk.Frame(master=window1,bd=2,relief=\"solid\",width=100,height=100)\n",
    "frame1.pack(side=\"left\")\n",
    "\n",
    "def update(event=None):\n",
    "    color = \"#%02x%02x%02x\"%(scale1.get(),\n",
    "                             scale3.get(),\n",
    "                             scale2.get())\n",
    "    frame1.config(bg=color)\n",
    "\n",
    "scale1 = tk.Scale(master=window1,from_=0,to=255,tickinterval=True,label=\"RED\",command=update)\n",
    "scale1.pack(side=\"left\")\n",
    "\n",
    "scale2 = tk.Scale(master=window1,from_=0,to=255,tickinterval=True,label=\"BLUE\",command=update)\n",
    "scale2.pack(side=\"left\")\n",
    "\n",
    "scale3 = tk.Scale(master=window1,from_=0,to=255,tickinterval=True,label=\"GREEN\",command=update)\n",
    "scale3.pack(side=\"left\")\n",
    "\n",
    "window1.mainloop()\n"
   ]
  },
  {
   "cell_type": "markdown",
   "id": "1ca43628-f325-41e2-82be-561531f74e80",
   "metadata": {},
   "source": [
    "## Spinbox\n",
    "Spinbox和Entry组件很类似，可以算是Entry组件的一个变形。Spinbox拥有Entry组件的所有参数。不同的是，Spinbox的侧面多了一个上箭头和一个下箭头，可以调节Spinbox的值。当然用户也可以在里面输入数据\n",
    "\n",
    "下面是Spinbox比Entry多的参数选项。\n",
    "\n",
    "参数 &\t作用\n",
    "+ buttonbackground\tSpinbox调节箭头的背景颜色\n",
    "+ buttoncursor\t鼠标在调节箭头上方的样式\n",
    "+ buttondownrelief\t下调节箭头的relief样式\n",
    "+ buttonuprelief\t上调节箭头的relief样式\n",
    "+ command\t点击调节箭头时执行的回调函数\n",
    "+ from_\t设置调节箭头调节的最小数值\n",
    "+ to\t设置调节箭头调节的最大数值\n",
    "+ format\t设置调节箭头调整数值的数值格式，使用%格式化，如：\"%4.4f\"\n",
    "+ increment\t调节箭头调节数值的步长\n",
    "+ values\t设置调节箭头可调节值的元组，和from_, to只能指定一边\n",
    "+ wrap\t可调节值是否可以循环调节，比如wrap=True, values=(\"0\", \"1\", \"2\")，然后一直点击下箭头，那么Spinbox的值依次变成\"0\", \"1\", \"2\", \"0\", \"1\", \"2\"的循环。如果wrap=False,那么无法循环调节，调节到\"2\"点下箭头就无效了。默认wrap=False\n",
    "常用方法同Entry。 "
   ]
  },
  {
   "cell_type": "code",
   "execution_count": null,
   "id": "4a4eb556-9589-43dd-9392-a3ef690361b0",
   "metadata": {},
   "outputs": [],
   "source": [
    "import tkinter as tk\n",
    "\n",
    "window1 = tk.Tk()\n",
    "window1.geometry(\"500x500\")\n",
    "\n",
    "Spinbox = tk.Spinbox(master=window1,from_=10,to=30)\n",
    "Spinbox.pack()\n",
    "\n",
    "window1.mainloop()"
   ]
  },
  {
   "cell_type": "markdown",
   "id": "4afd0a9f-8cfe-4cb5-9ae2-ab960f67bec8",
   "metadata": {},
   "source": [
    "### from_, to和increment参数\n",
    "如设置from_=0, to=10，那么点击上下箭头的时候，文本框里面的内容会在0到10之间调节。但用户仍然可以在Spinbox中输入任何内容。\n",
    "\n"
   ]
  },
  {
   "cell_type": "markdown",
   "id": "579c33e1-792c-4ce0-9b18-bfe7d07ff895",
   "metadata": {},
   "source": [
    "### values参数\n",
    "values参数和上面的from_, to, increment只能指定一边。values参数传递一个元组之类的序列。比如values=(\"Python\", \"C\", \"Java\", \"Tcl\")，那么点击上下箭头的时候，文本框中的内容会在元组里面切换"
   ]
  },
  {
   "cell_type": "code",
   "execution_count": null,
   "id": "48dc90d7-c0c3-4cdd-8c45-ecf03ed66778",
   "metadata": {},
   "outputs": [],
   "source": [
    "import tkinter as tk\n",
    "\n",
    "window1 = tk.Tk()\n",
    "window1.geometry(\"500x500\")\n",
    "\n",
    "Spinbox = tk.Spinbox(master=window1,values=(\"aaa\",\"bbb\",\"ccc\"))\n",
    "Spinbox.pack()\n",
    "\n",
    "window1.mainloop()"
   ]
  },
  {
   "cell_type": "markdown",
   "id": "004fbd4c-d78e-4240-8cac-d1b5f84c6456",
   "metadata": {},
   "source": [
    "### readonly状态\n",
    "Spinbox可以设置为readonly状态，和Entry一样。设置为readonly的时候，文本框中不能输入，但是仍可以通过按上下箭头调节Spinbox的值。"
   ]
  },
  {
   "cell_type": "markdown",
   "id": "24e8b27a-6b3d-4198-8f23-01909cf8c31f",
   "metadata": {},
   "source": [
    "## OptionMenu\n",
    "OptionMenu是选项菜单，用户可以下拉一个选择菜单，指定OptionMenu的值。"
   ]
  },
  {
   "cell_type": "code",
   "execution_count": null,
   "id": "d8670acb-0036-4056-a6ef-9fa8a74e3864",
   "metadata": {},
   "outputs": [],
   "source": [
    "from tkinter import *\n",
    " \n",
    "root = Tk()\n",
    " \n",
    "var = StringVar()\n",
    "var.set(\"Python\") #设置OptionMenu的值\n",
    " \n",
    "m = OptionMenu(root, var, \"Python\", \"C\", \"Java\")\n",
    "m.pack()\n",
    " \n",
    "mainloop()"
   ]
  },
  {
   "cell_type": "markdown",
   "id": "72d4bf41-d349-4e45-9f80-6b018cc969b4",
   "metadata": {},
   "source": [
    "## PanedWindow\n",
    "PanedWindow组件是Tk8.4新增的组件，类似于Frame。不同的是，PanedWindow组件允许用户调节子组件的布局。每个添加到PanedWindow的子组件作为一个窗格管理。"
   ]
  },
  {
   "cell_type": "code",
   "execution_count": null,
   "id": "f00a91c1-c282-4bda-ac62-556e9c913479",
   "metadata": {},
   "outputs": [],
   "source": [
    "from tkinter import *\n",
    " \n",
    "root = Tk()\n",
    " \n",
    "w = PanedWindow(root, orient=\"horizontal\")\n",
    "w.pack(fill=\"both\", expand=True)\n",
    " \n",
    "mainloop()"
   ]
  },
  {
   "cell_type": "markdown",
   "id": "277fe3bc-014e-43ec-bce4-252790d04730",
   "metadata": {},
   "source": [
    "## Text\n",
    "Text是多行文本输入框，和Entry不同的是，Entry只有单行。并且Text里面不仅能够插入文本，还可以插入图片、组件等，还可以有标记功能，对于特殊的内容改变颜色。\n",
    "\n",
    "Text(master=None, cnf={}, **kw)\n",
    "\n",
    "Text的参数有一大部分和Entry的参数相同，如光标、激活、颜色一类的参数。\n",
    "\n",
    "参数\t& 作用\n",
    "+ width\tText的宽，以字符数量为单位\n",
    "+ height\tText的高，以行数为单位\n",
    "+ undo\t设置是否开启撤销功能，默认为False；开启撤销功能时，用户可以按下Ctrl+Z进行撤销操作\n",
    "+ autoseparators\t设置是否自动插入撤销分隔，默认为True\n",
    "+ maxundo\t允许撤销的数量，设置为-1代表无限次\n",
    "+ padx\t设置内容与边框的x方向间距\n",
    "+ pady\t设置内容与边框的y方向间距\n",
    "+ wrap\t设置Text的换行方式，可以是\"none\"(不自动换行), \"char\"(按字符换行), \"word\"(按单词换行)\n",
    "+ xscrollcommand\tx方向滚动\n",
    "+ yscrollcommand\ty方向滚动\n",
    "\n",
    "常用方法：\n",
    "\n",
    "方法 &\t作用\n",
    "+ bbox(index)\t返回位于index字符的边界框位置(x, y, width, height)，需先调用update方法\n",
    "+ delete(start, end=None)\t删除从start到end的内容\n",
    "+ insert(index, text, *tag)\t在index位置插入text，并标记为*tag\n",
    "+ dump(index1, index2=None, command=None, **kw)\t以列表形式返回Text的插入内容\n",
    "+ get(index1, index2=None)\t返回index到index2的文本内容（注：不是插入内容，Text里面不仅可以插入文本）\n",
    "+ see(index)\t滚动Text，使位于index的文本可见\n",
    "+ edit_redo()\t重做，需设置undo=True\n",
    "+ edit_undo()\t撤销，需设置undo=True\n",
    "+ edit_reset()\t清空文本操作记录\n",
    "+ edit_separator()\t插入撤销分隔\n",
    "+ index(index)\t将index的位置以line.column返回\n",
    "+ replace(index1, index2, chars, *args)\t将index1到index2的内容替换为chars字符串，*args设定tag\n",
    "+ search(pattern, index, stopindex=None, forwards=None, backwards=None, exact=None, regexp=None, nocase=None, count=None)\t在index到+ stopindex的文本之间搜索pattern字符串\n",
    "\n",
    "除了这些方法外，还有一些tag, mark, image之类的方法，放在后面讲。"
   ]
  },
  {
   "cell_type": "markdown",
   "id": "34b0f380-02cd-4f90-ac63-24fa1177d170",
   "metadata": {},
   "source": [
    "### wrap参数\n",
    "wrap参数设置Text的换行方式，可以是\"none\"(不自动换行), \"char\"(按字符换行), \"word\"(按单词换行)。\n",
    "\n",
    "设置为\"none\"时，如果字符数量超过Text的宽，不会进行换行，Text会进行滚动，以适应光标位置。\n",
    "\n",
    "设置为\"char\"时，字符数量超过Text的宽，会换到下一行。\n",
    "\n",
    "设置为\"word\"时，字符同样会换行，但是换到下一行的是一个完整的单词。\n"
   ]
  },
  {
   "cell_type": "code",
   "execution_count": null,
   "id": "dc503d7c-483c-4e61-9a36-e62c51a4650a",
   "metadata": {},
   "outputs": [],
   "source": [
    "import tkinter as tk\n",
    "\n",
    "window1 = tk.Tk()\n",
    "window1.geometry(\"500x500\")\n",
    "\n",
    "text1 = tk.Text(master=window1,wrap=\"word\")  #按照字符换行\n",
    "text1.pack(fill=\"both\")\n",
    "\n",
    "window1.mainloop()\n"
   ]
  },
  {
   "cell_type": "markdown",
   "id": "c48302b3-ec7f-4d7d-bafa-25cb715895f2",
   "metadata": {},
   "source": [
    "用户可以在Text中进行撤销和重做操作。开启撤销和重做操作，首先要设置undo=True，然后用户可以按Ctrl+Z来撤销。"
   ]
  },
  {
   "cell_type": "code",
   "execution_count": null,
   "id": "f5915828-ff3b-406d-a7e5-499cda9726db",
   "metadata": {},
   "outputs": [],
   "source": [
    "import tkinter as tk\n",
    "\n",
    "window1 = tk.Tk()\n",
    "window1.geometry(\"500x500\")\n",
    "\n",
    "text1 = tk.Text(master=window1,wrap=\"word\",undo=True)\n",
    "text1.pack(fill=\"both\")\n",
    "\n",
    "window1.mainloop()"
   ]
  },
  {
   "cell_type": "markdown",
   "id": "f327f926-63ac-4745-b475-02dff228f57b",
   "metadata": {},
   "source": [
    "edit_undo和edit_redo方法用于撤销和重做，edit_undo方法执行一次撤销操作，edit_redo方法执行一次重做操作。如果没有内容可撤销或重做会报错。如下示例："
   ]
  },
  {
   "cell_type": "code",
   "execution_count": null,
   "id": "3b3dab29-3338-4fd9-81f5-c5d60c83be1c",
   "metadata": {},
   "outputs": [],
   "source": [
    "import tkinter as tk\n",
    "\n",
    "window1 = tk.Tk()\n",
    "window1.geometry(\"500x500\")\n",
    "\n",
    "text1 = tk.Text(master=window1,wrap=\"word\",undo=True)\n",
    "text1.pack(fill=\"both\")\n",
    "\n",
    "button1 = tk.Button(master=window1,text=\"undo\",command=text1.edit_undo)\n",
    "button1.pack()\n",
    "\n",
    "window1.mainloop()"
   ]
  },
  {
   "cell_type": "markdown",
   "id": "86f41884-249c-48bf-815d-be286af69983",
   "metadata": {},
   "source": [
    "### 索引\n",
    "Text指定字符位置的索引比较特殊，下面介绍一下Text的索引。\n",
    "\n",
    "表示为line.column的格式：line是行数，column是列数，行数和列数之间用一个\".\"隔开，可以是一个浮点数或字符串。比如：第一行，第一个字符表示为\"1.0\"或1.0；第三行，第四个字符表示为\"3.3\"或3.3。行数的索引以1为开始，列数的索引以0为开始。\n",
    "+ current：表示离鼠标上一次点击位置最近的一个字符。\n",
    "+ insert：表示光标位置。\n",
    "+ end：表示结尾的位置。\n",
    "+ 表示为line.end的格式：line是行数，end代表结尾，是一个字符串。表示第line行的最后一个字符。比如：第二行最后一个字符表示为\"2.end\"。\n",
    "+ 表示为mark的名称：mark下文介绍，如果写作mark的名称可以表示mark的位置。上面的current和insert是两个预定义的mark。\n",
    "+ 表示为tagName.first/last：tag下文介绍，如果写作tag的名称加上.first表示tag的第一个字符之前，\"tagName.last\"表示tagName的最后一个字符之后。\n",
    "+ sel.first/last：sel是一个特殊的tag，\"sel.first\"代表选中内容的开头字符之前，\"sel.last\"代表选中内容的结尾字符之后。\n",
    "+ 表示为window或image的对象字符串：如果插入了某个组件或图像，可以表示为它们的字符串形式（执行str）来表示它们的位置。\n",
    "+ 表示为@x, y：表示离(x, y)窗口位置最接近的字符。比如\"@100, 100\"表示最接近窗口位置(100, 100)的字符。\n",
    "\n",
    "如想要根据一个特殊的索引，比如\"insert\", \"@1, 2 + 2l\"来获取准确的line.column式索引，可以使用index方法。\n",
    "\n",
    "Text.index(index)\n",
    "\n",
    "此方法返回index的line.column形式索引。\n"
   ]
  },
  {
   "cell_type": "markdown",
   "id": "a1de6ffd-33a2-4524-a67e-fc21bcda9993",
   "metadata": {},
   "source": [
    "\n",
    "\n",
    "### 插入文字\n",
    "insert方法可以在Text中插入文字。\n",
    "\n",
    "insert(index, text, *tag) \n",
    "\n",
    "在index位置插入text内容。*tag是文本的tag标记，把这一串文字标记为tag, 后面会介绍tag。\n",
    "\n",
    "需要注意的是，insert方法只能插入文字，而delete方法不仅可以删除文字，还可以删除其他的组件或图片。\n"
   ]
  },
  {
   "cell_type": "markdown",
   "id": "a11c0f54-d6af-4c0c-9010-2f922634857b",
   "metadata": {},
   "source": [
    "### 插入图片\n",
    "Text可以使用image_create方法插入图片。\n",
    "\n",
    "Text.image_create(index, cnf={}, **kw)\n",
    "\n",
    "index是插入的索引位置，**kw参数可以是：\n",
    "\n",
    "参数 &\t作用\n",
    "+ align\t设置图像的对齐方式，可以是\"top\", \"center\", \"bottom\"或\"baseline\"\n",
    "+ image\t设置插入的图像，是一个PhotoImage或BitmapImage\n",
    "+ name\t图像的名称，一般不需要指定\n",
    "+ padx\t图像的x方向间距\n",
    "+ pady\t图像的y方向间距\n",
    "\n",
    "与图片相关的方法还有如下：\n",
    "\n",
    "+ image_cget(index, option)\n",
    "\n",
    "    返回index位置的图像的option选项值\n",
    "\n",
    "+ image_configure(index, cnf={}, **kw)\n",
    "\n",
    "    设置index位置的图像的选项值。\n",
    "\n",
    "+ image_names()\n",
    "\n",
    "    返回嵌入Text的所有图像名称。"
   ]
  },
  {
   "cell_type": "markdown",
   "id": "7f5242a6-03b9-44f4-a663-8f6f8baa782b",
   "metadata": {},
   "source": [
    "\n",
    "### 插入组件\n",
    "window_create方法可以在Text中插入组件。\n",
    "\n",
    "window_create(index, cnf={}, **kw)\n",
    "\n",
    "**kw参数可以是：\n",
    "\n",
    "参数\t& 作用\n",
    "+ align\t设置组件的对齐方式，可以是\"top\"(上), \"center\"(中), \"bottom\"(下)或\"baseline\"(基线)\n",
    "+ create\t传递一个回调函数，函数须返回一个Text的子组件用于插入Text\n",
    "+ window\t设置插入的组件，必须是Text的子组件，window和create参数指定一个即可\n",
    "+ stretch\t当行高大于组件高度时，是否延伸组件的高，默认为False\n",
    "+ padx\t组件的x方向间距\n",
    "+ pady\t组件的y方向间距\n"
   ]
  },
  {
   "cell_type": "markdown",
   "id": "5d59649c-7c35-4269-82c8-bc350be73330",
   "metadata": {},
   "source": [
    "### Mark（标记）\n",
    "在Text中，可以记录一个索引的位置，在此处做一个标记，也就是mark。mark标记的位置可以在索引中使用。有两个事先定义好的mark，即\"current\"和\"insert\"，参见上文。需要注意的是：\"end\"并不是一个mark，而是一个比较特殊的索引。\n",
    "\n",
    "添加一个mark，需要使用mark_set方法，这个方法不仅可以添加mark，也可以更改定义过的mark。\n",
    "\n",
    "Text.mark_set(markName, index)"
   ]
  },
  {
   "cell_type": "markdown",
   "id": "92d605f4-d849-4539-82a5-c948ee93ff3c",
   "metadata": {},
   "source": [
    "##  tkinter图片对象\n",
    "tkinter有两种图片对象，一种是PhotoImage，用于导入*.gif, *.ppm, *.pgm格式的文件，新版tk还支持*.png；还有一种是BitmapImage，用于导入*.xbm的位图格式文件。这些图片对象都可以被传递给组件的image参数。这些图片对象都支持以下方法：\n",
    "\n",
    "方法\t&作用\n",
    "+ config(**kw)\t更改图片参数设置\n",
    "+ height()\t返回图片的高\n",
    "+ width()\t返回图片的宽\n",
    "+ type()\t返回图片的类型，\"photo\"或\"bitmap\"\n",
    "+ PhotoImage\n",
    "+ PhotoImage(name=None, cnf={}, master=None, **kw)\n",
    "\n",
    "name用来设定图片的名称。此外，PhotoImage支持以下关键字参数。\n",
    "\n",
    "参数&作用\n",
    "+ data\t将图像的数据内容以字符串传递；字符串可以是二进制数据或base64编码数据（支持PNG和GIF）；如同时指定了data和file参数，优先使用file指定的图片\n",
    "+ file\t指定图片文件名称\n",
    "+ format\t指定文件格式名\n",
    "+ gamma\t图像的伽马值，可以理解为亮度；默认值为1，指定的值必须大于0\n",
    "+ height\t图像的高度\n",
    "+ width\t图像的宽度\n",
    "+ palette\t指定要分配用于显示此图像的颜色立方体的分辨率，因此指定从显示它的窗口的颜色图中使用的颜色数。调色板规范字符串可以是一个十进制数，指定要使用的灰色阴影数，也可以是由斜线 (/) 分隔的三个十进制数，分别指定要使用的红色、绿色和蓝色阴影数。 如果使用第一种形式（单个数字），图像将以单色（即灰度）显示\n",
    "+ \n",
    "除上描述的方法外，还支持以下方法：\n",
    "\n",
    "方法\t&作用\n",
    "+ blank()\t将图片设为完全透明\n",
    "+ cget(option)\t获取option参数的值\n",
    "+ copy()\t复制图片，返回新的图片对象\n",
    "+ zoom(x, y=\"\")\t返回原图像在x方向缩放至原来x倍，y方向缩放至原来y倍的图像；如不指定y，则y同x\n",
    "+ subsample(x, y=\"\")\t将图片在x方向缩放至原来x分之一的大小，y方向缩放至原来y分之一的大小；如果x为负数，则图像垂直翻转；如果y为负数，则图像水平翻转；如不指定y，则y同x\n",
    "+ get(x, y)\t返回在x, y像素位置上的颜色元组(red, green, blue)\n",
    "+ put(data, to=None)\t从to位置的像素点开始向设置右方像素的颜色；data需提供[(color, color, ...), (color, color, ...), ...]这样的形式，列表中每一个项都表示一行，每一个项中间设定了这一行需改变的像素点颜色\n",
    "+ write(filename, format=None, from_coords=None)\t将图像写入filename文件，图片格式为format；from_coords指定写入的图像范围，可以是(x1, y1, x2, y2)表示一个矩形范围，或是(x1, y1)表示从一个点的位置到图片右下角，也可以不指定表示整个图像\n",
    "+ transparency_get(x, y)\t返回一个布尔值，根据位于x, y的像素点是否透明\n",
    "+ transparency_set(x, y, boolean)\t将x, y的像素点是否透明的状态设为boolean\n",
    "\n",
    "## BitmapImage\n",
    "BitmapImage(name=None, cnf={}, master=None, **kw)\n",
    "\n",
    "name用于设定图片的名称，此外还可以设置如下关键字参数：\n",
    "\n",
    "参数&\t作用\n",
    "+ data\t将图像的数据内容以字符串形式传递；字符串必须遵循X11位图格式；如同时指定了data和file参数，优先使用data指定的图片\n",
    "+ file\t指定图片文件名称\n",
    "+ background\t设置位图的背景色\n",
    "+ foreground\t设置位图的前景色\n",
    "+ maskdata\t将位图掩码的数据内容以字符串形式传递\n",
    "+ maskfile\t指定位图掩码文件名称\n",
    "+ BitmapImage不支持除上面描述的公共方法外的其他方法。 "
   ]
  },
  {
   "cell_type": "code",
   "execution_count": null,
   "id": "910894ba-34d4-4d7d-a446-43f2c48ab916",
   "metadata": {},
   "outputs": [],
   "source": []
  },
  {
   "cell_type": "code",
   "execution_count": null,
   "id": "c5713252-bfbc-415c-8598-7821dc7f56d7",
   "metadata": {},
   "outputs": [],
   "source": []
  },
  {
   "cell_type": "code",
   "execution_count": null,
   "id": "bd9e9662-b946-47f6-b640-66bafa434af9",
   "metadata": {},
   "outputs": [],
   "source": []
  },
  {
   "cell_type": "code",
   "execution_count": null,
   "id": "2dc06ac4-82e9-4a42-8730-3539fd9cb4eb",
   "metadata": {},
   "outputs": [],
   "source": []
  },
  {
   "cell_type": "code",
   "execution_count": null,
   "id": "37b14069-7160-4720-8dcf-65e339e3088a",
   "metadata": {},
   "outputs": [],
   "source": []
  },
  {
   "cell_type": "code",
   "execution_count": null,
   "id": "0f7e7402-5653-4933-8e1c-e0450812d496",
   "metadata": {},
   "outputs": [],
   "source": []
  },
  {
   "cell_type": "code",
   "execution_count": null,
   "id": "9671046c-7065-41b9-a2ab-670d7d11fcfe",
   "metadata": {},
   "outputs": [],
   "source": []
  },
  {
   "cell_type": "code",
   "execution_count": null,
   "id": "94cdf894-4df2-4ee6-a0de-6c35a67e6402",
   "metadata": {},
   "outputs": [],
   "source": []
  },
  {
   "cell_type": "code",
   "execution_count": null,
   "id": "eb579fa9-80f4-4f97-9c0e-96a10d9d9f8e",
   "metadata": {},
   "outputs": [],
   "source": []
  },
  {
   "cell_type": "code",
   "execution_count": null,
   "id": "894c11b1-80b4-4b99-9f44-14ab19136d70",
   "metadata": {},
   "outputs": [],
   "source": []
  },
  {
   "cell_type": "code",
   "execution_count": null,
   "id": "c535ff5e-8ed5-46e7-a538-ccf91e065576",
   "metadata": {},
   "outputs": [],
   "source": []
  },
  {
   "cell_type": "code",
   "execution_count": null,
   "id": "ccff2065-03f5-4647-905a-c4e5e4c4fd45",
   "metadata": {},
   "outputs": [],
   "source": []
  },
  {
   "cell_type": "code",
   "execution_count": null,
   "id": "ad1d191c-2837-4061-83ee-a4a84353f0a9",
   "metadata": {},
   "outputs": [],
   "source": []
  },
  {
   "cell_type": "code",
   "execution_count": null,
   "id": "d32770c9-55c0-494f-be4e-8157ee62ef4a",
   "metadata": {},
   "outputs": [],
   "source": []
  },
  {
   "cell_type": "code",
   "execution_count": null,
   "id": "36764508-1834-4d50-a98b-759ed555769e",
   "metadata": {},
   "outputs": [],
   "source": []
  },
  {
   "cell_type": "code",
   "execution_count": null,
   "id": "e666a8df-dfc8-489d-81d6-8f4da0ff13f8",
   "metadata": {},
   "outputs": [],
   "source": []
  },
  {
   "cell_type": "code",
   "execution_count": null,
   "id": "76414db4-f518-406a-ba41-a564f6db0932",
   "metadata": {},
   "outputs": [],
   "source": []
  },
  {
   "cell_type": "code",
   "execution_count": null,
   "id": "42680073-d5da-4dcc-b4e0-cd5cdf154abe",
   "metadata": {},
   "outputs": [],
   "source": []
  },
  {
   "cell_type": "code",
   "execution_count": null,
   "id": "3c5ed573-d8cc-4768-9b5f-1b0571711ee9",
   "metadata": {},
   "outputs": [],
   "source": []
  },
  {
   "cell_type": "code",
   "execution_count": null,
   "id": "90647f61-c35b-48ef-aa15-845e880387e4",
   "metadata": {},
   "outputs": [],
   "source": []
  }
 ],
 "metadata": {
  "kernelspec": {
   "display_name": "myENV1",
   "language": "python",
   "name": "myenv1"
  },
  "language_info": {
   "codemirror_mode": {
    "name": "ipython",
    "version": 3
   },
   "file_extension": ".py",
   "mimetype": "text/x-python",
   "name": "python",
   "nbconvert_exporter": "python",
   "pygments_lexer": "ipython3",
   "version": "3.12.7"
  }
 },
 "nbformat": 4,
 "nbformat_minor": 5
}
